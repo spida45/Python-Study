{
 "cells": [
  {
   "cell_type": "code",
   "execution_count": 2,
   "id": "commercial-finding",
   "metadata": {},
   "outputs": [],
   "source": [
    "#Python Self-study Demo & Note"
   ]
  },
  {
   "cell_type": "code",
   "execution_count": 3,
   "id": "novel-heavy",
   "metadata": {},
   "outputs": [],
   "source": [
    "\n",
    "#while循环\n"
   ]
  },
  {
   "cell_type": "code",
   "execution_count": 3,
   "id": "every-marketplace",
   "metadata": {},
   "outputs": [
    {
     "name": "stdout",
     "output_type": "stream",
     "text": [
      "1\n",
      "2\n",
      "3\n",
      "4\n",
      "5\n",
      "6\n",
      "7\n",
      "8\n",
      "9\n"
     ]
    }
   ],
   "source": [
    "condition=1\n",
    "while condition <10:\n",
    "    print(condition)\n",
    "    condition=condition+1"
   ]
  },
  {
   "cell_type": "code",
   "execution_count": 5,
   "id": "everyday-coach",
   "metadata": {},
   "outputs": [],
   "source": [
    "#无限循环\n",
    "#while True:\n",
    "#    print(\"I'am True!\")"
   ]
  },
  {
   "cell_type": "code",
   "execution_count": 6,
   "id": "abandoned-effect",
   "metadata": {},
   "outputs": [],
   "source": [
    "\n",
    "#for循环\n"
   ]
  },
  {
   "cell_type": "code",
   "execution_count": 7,
   "id": "italian-victorian",
   "metadata": {},
   "outputs": [
    {
     "name": "stdout",
     "output_type": "stream",
     "text": [
      "1\n",
      "inner of for\n",
      "2\n",
      "inner of for\n",
      "3\n",
      "inner of for\n",
      "4\n",
      "inner of for\n",
      "5\n",
      "inner of for\n",
      "6\n",
      "inner of for\n",
      "7\n",
      "inner of for\n",
      "12\n",
      "inner of for\n",
      "543\n",
      "inner of for\n",
      "876\n",
      "inner of for\n",
      "12\n",
      "inner of for\n",
      "3\n",
      "inner of for\n",
      "2\n",
      "inner of for\n",
      "5\n",
      "inner of for\n",
      "out of for\n"
     ]
    }
   ],
   "source": [
    "example_list=[1,2,3,4,5,6,7,12,543,876,12,3,2,5]\n",
    "\n",
    "for i in example_list:\n",
    "    print(i)\n",
    "    print('inner of for')           #每一次循环都print一遍inner of for\n",
    "print('out of for')\n"
   ]
  },
  {
   "cell_type": "code",
   "execution_count": 8,
   "id": "thermal-acrylic",
   "metadata": {},
   "outputs": [
    {
     "name": "stdout",
     "output_type": "stream",
     "text": [
      "1\n",
      "2\n",
      "3\n",
      "4\n",
      "5\n",
      "6\n",
      "7\n",
      "8\n",
      "9\n"
     ]
    }
   ],
   "source": [
    "for i in range(1,10):                \n",
    "    print(i)\n"
   ]
  },
  {
   "cell_type": "code",
   "execution_count": 9,
   "id": "smart-lender",
   "metadata": {},
   "outputs": [
    {
     "name": "stdout",
     "output_type": "stream",
     "text": [
      "1\n",
      "3\n",
      "5\n",
      "7\n",
      "9\n"
     ]
    }
   ],
   "source": [
    "for i in range(1,10,2):              #( , ,步长）\n",
    "    print(i)"
   ]
  },
  {
   "cell_type": "code",
   "execution_count": 10,
   "id": "educational-fortune",
   "metadata": {},
   "outputs": [],
   "source": [
    "\n",
    "#if语句\n"
   ]
  },
  {
   "cell_type": "code",
   "execution_count": 11,
   "id": "animated-combat",
   "metadata": {},
   "outputs": [
    {
     "name": "stdout",
     "output_type": "stream",
     "text": [
      "x is less than y,and y is less than z\n",
      "x<-1\n"
     ]
    }
   ],
   "source": [
    "x=-2\n",
    "y=2\n",
    "z=3\n",
    "\n",
    "if x<y<z:\n",
    "    print('x is less than y,and y is less than z')\n",
    "\n",
    "if x>1:\n",
    "    print('x>1')\n",
    "elif x<-1:\n",
    "    print('x<-1')                       #只要满足语句就会跳出if判断语句，直接运行后面的语句\n",
    "elif x<1:\n",
    "    print('x<1')\n",
    "else:\n",
    "    print('x=1')"
   ]
  },
  {
   "cell_type": "code",
   "execution_count": 12,
   "id": "harmful-flavor",
   "metadata": {},
   "outputs": [],
   "source": [
    "\n",
    "#def 函数\n"
   ]
  },
  {
   "cell_type": "code",
   "execution_count": 13,
   "id": "known-steel",
   "metadata": {},
   "outputs": [
    {
     "name": "stdout",
     "output_type": "stream",
     "text": [
      "This is a function\n",
      "3\n"
     ]
    }
   ],
   "source": [
    "def function():\n",
    "    print('This is a function')\n",
    "    a=1+2\n",
    "    print(a)\n",
    "\n",
    "function()"
   ]
  },
  {
   "cell_type": "code",
   "execution_count": 14,
   "id": "directed-illinois",
   "metadata": {},
   "outputs": [],
   "source": [
    "#def函数参数\n",
    "def fun(a,b):\n",
    "    c=a*b\n",
    "    print('The c is',c)"
   ]
  },
  {
   "cell_type": "code",
   "execution_count": 16,
   "id": "weird-virginia",
   "metadata": {},
   "outputs": [
    {
     "name": "stdout",
     "output_type": "stream",
     "text": [
      "The c is 20\n"
     ]
    }
   ],
   "source": [
    "fun(4,5)"
   ]
  },
  {
   "cell_type": "code",
   "execution_count": 17,
   "id": "sixth-current",
   "metadata": {},
   "outputs": [
    {
     "name": "stdout",
     "output_type": "stream",
     "text": [
      "The c is 20\n"
     ]
    }
   ],
   "source": [
    "fun(b=4,a=5)"
   ]
  },
  {
   "cell_type": "code",
   "execution_count": 15,
   "id": "failing-virginia",
   "metadata": {},
   "outputs": [],
   "source": [
    "#def 默认函数参数\n",
    "def sale_car(price,color,brand,is_second_hand):\n",
    "    print('price:',price,\n",
    "          'color:',color,\n",
    "          'brand:',brand,\n",
    "          'is_second_hand:',is_second_hand)"
   ]
  },
  {
   "cell_type": "code",
   "execution_count": 18,
   "id": "bronze-rebel",
   "metadata": {},
   "outputs": [
    {
     "name": "stdout",
     "output_type": "stream",
     "text": [
      "price: 1000 color: red brand: carmy is_second_hand: True\n"
     ]
    }
   ],
   "source": [
    "sale_car(1000,'red','carmy',True)"
   ]
  },
  {
   "cell_type": "code",
   "execution_count": 20,
   "id": "crude-treasury",
   "metadata": {},
   "outputs": [],
   "source": [
    "def sale_car(price,color='red',brand='carmy',is_second_hand=True):              #未定义值必须在已定义的值的前面\n",
    "    print('price:',price,\n",
    "          'color:',color,\n",
    "          'brand:',brand,\n",
    "          'is_second_hand:',is_second_hand)"
   ]
  },
  {
   "cell_type": "code",
   "execution_count": 21,
   "id": "supposed-ladder",
   "metadata": {},
   "outputs": [
    {
     "name": "stdout",
     "output_type": "stream",
     "text": [
      "price: 1000 color: blue brand: carmy is_second_hand: True\n"
     ]
    }
   ],
   "source": [
    "sale_car(1000,color='blue')"
   ]
  },
  {
   "cell_type": "code",
   "execution_count": 22,
   "id": "oriental-receptor",
   "metadata": {},
   "outputs": [],
   "source": [
    "\n",
    "#全局&局部变量\n"
   ]
  },
  {
   "cell_type": "code",
   "execution_count": 23,
   "id": "cooked-senegal",
   "metadata": {},
   "outputs": [],
   "source": [
    "def fun():\n",
    "    a=10\n",
    "    print(a)\n",
    "    return a+100"
   ]
  },
  {
   "cell_type": "code",
   "execution_count": 24,
   "id": "legendary-assault",
   "metadata": {},
   "outputs": [
    {
     "name": "stdout",
     "output_type": "stream",
     "text": [
      "10\n",
      "10\n",
      "110\n"
     ]
    }
   ],
   "source": [
    "fun()                   #运行函数\n",
    "print(fun())"
   ]
  },
  {
   "cell_type": "code",
   "execution_count": 31,
   "id": "promotional-cowboy",
   "metadata": {},
   "outputs": [
    {
     "name": "stdout",
     "output_type": "stream",
     "text": [
      "100\n",
      "a past= None\n",
      "120\n",
      "a now= 20\n"
     ]
    }
   ],
   "source": [
    "APPLE=100           #定义全局变量一般用大写字母\n",
    "a = None            #定义全局变量a\n",
    "def fun():\n",
    "    global a        #指定此处a为外面已定义的全局变量\n",
    "    a=20\n",
    "    return a+100\n",
    "print(APPLE)                    #output: 100\n",
    "print('a past=',a)              #output: a past= None\n",
    "print(fun())                    #output: 120\n",
    "print('a now=',a) "
   ]
  },
  {
   "cell_type": "code",
   "execution_count": 32,
   "id": "toxic-upper",
   "metadata": {},
   "outputs": [],
   "source": [
    "\n",
    "#文件读写\n"
   ]
  },
  {
   "cell_type": "code",
   "execution_count": 33,
   "id": "chemical-harmony",
   "metadata": {},
   "outputs": [
    {
     "name": "stdout",
     "output_type": "stream",
     "text": [
      "This is my first text.\n",
      "This is next line.\n",
      "This is the last line.\n"
     ]
    }
   ],
   "source": [
    "#write file\n",
    "text ='This is my first text.\\nThis is next line.\\nThis is the last line.'      # 注意是'\\n',not'/n'!!!\n",
    "print(text)\n",
    "\n",
    "my_file = open('my file.txt','w')                          #'w'--write  \n",
    "my_file.write(text)\n",
    "my_file.close()"
   ]
  },
  {
   "cell_type": "code",
   "execution_count": 34,
   "id": "anonymous-trustee",
   "metadata": {},
   "outputs": [],
   "source": [
    "#append file\n",
    "append_text='\\nThis is appended file.'\n",
    "\n",
    "my_file = open('my file.txt','a')                          #'a'--append\n",
    "my_file.write(append_text)\n",
    "my_file.close()"
   ]
  },
  {
   "cell_type": "code",
   "execution_count": 35,
   "id": "systematic-commonwealth",
   "metadata": {},
   "outputs": [
    {
     "name": "stdout",
     "output_type": "stream",
     "text": [
      "['This is my first text.\\n', 'This is next line.\\n', 'This is the last line.\\n', 'This is appended file.']\n"
     ]
    }
   ],
   "source": [
    "#read file\n",
    "file=open('my file.txt','r')                               #'r'--read\n",
    "#content=file.read()                                       #file.read()--读取整个文件\n",
    "#first_read_time=file.readline()                            #file.readline()--读取一行文本\n",
    "#second_read_time=file.readline()                           #...读取下一行文本\n",
    "#print(content,first_read_time,second_read_time)\n",
    "\n",
    "content=file.readlines()                                  #逐行读取并且放入  python_list[' ',' ',...,' ']\n",
    "print((content))"
   ]
  },
  {
   "cell_type": "code",
   "execution_count": 36,
   "id": "enhanced-marking",
   "metadata": {},
   "outputs": [],
   "source": [
    "\n",
    "#class类\n"
   ]
  },
  {
   "cell_type": "code",
   "execution_count": 37,
   "id": "front-regulation",
   "metadata": {},
   "outputs": [],
   "source": [
    "#封装一个计算器类\n",
    "class Calculator:                               #一般以大写字母开头\n",
    "    name='Good calculator'\n",
    "    price=18                                    #以上两行是class自己属性\n",
    "    def add(self,x,y):                          #self--可调用的属性\n",
    "        print(self.name)\n",
    "        result=x+y\n",
    "        print(result)\n",
    "    def minus(self,x,y):\n",
    "        result=x-y\n",
    "        print(result)\n",
    "    def times(self,x,y):\n",
    "        print(x*y)\n",
    "    def divide(self,x,y):\n",
    "        print(x/y)"
   ]
  },
  {
   "cell_type": "code",
   "execution_count": 38,
   "id": "great-curtis",
   "metadata": {},
   "outputs": [
    {
     "name": "stdout",
     "output_type": "stream",
     "text": [
      "Good calculator\n",
      "3\n"
     ]
    }
   ],
   "source": [
    "calcul=Calculator()\n",
    "calcul.add(1,2)"
   ]
  },
  {
   "cell_type": "code",
   "execution_count": 39,
   "id": "flexible-broadcast",
   "metadata": {},
   "outputs": [],
   "source": [
    "\n",
    "#类init\n"
   ]
  },
  {
   "cell_type": "code",
   "execution_count": 40,
   "id": "interior-draft",
   "metadata": {},
   "outputs": [],
   "source": [
    "class Calculator:                        #一般以大写字母开头\n",
    "    def __init__(self,name,price,height,width,weight):      #def __init__(self,name,price,height=30,width=15,weight=19):\n",
    "        self.name=name\n",
    "        self.price=price\n",
    "        self.h=height\n",
    "        self.wi=width\n",
    "        self.we=weight\n",
    "    def add(self,x,y):                  #self--可调用的属性\n",
    "        print(self.name)\n",
    "        result=x+y\n",
    "        print(result)\n",
    "    def minus(self,x,y):\n",
    "        result=x-y\n",
    "        print(result)\n",
    "    def times(self,x,y):\n",
    "        print(x*y)\n",
    "    def divide(self,x,y):\n",
    "        print(x/y)"
   ]
  },
  {
   "cell_type": "code",
   "execution_count": 41,
   "id": "suited-worse",
   "metadata": {},
   "outputs": [
    {
     "name": "stdout",
     "output_type": "stream",
     "text": [
      "Good Calculator\n",
      "9\n"
     ]
    }
   ],
   "source": [
    "c=Calculator('Good Calculator',18,30,15,19)\n",
    "c.add(4,5)"
   ]
  },
  {
   "cell_type": "code",
   "execution_count": null,
   "id": "funded-divide",
   "metadata": {},
   "outputs": [],
   "source": [
    "\n",
    "#input\n"
   ]
  },
  {
   "cell_type": "code",
   "execution_count": null,
   "id": "champion-ideal",
   "metadata": {},
   "outputs": [],
   "source": [
    "a_input=input('Please give a number:')              #return a string\n",
    "print('This input number is:',a_input)"
   ]
  },
  {
   "cell_type": "code",
   "execution_count": null,
   "id": "suitable-instruction",
   "metadata": {},
   "outputs": [],
   "source": [
    "# #错误案例，whatever input is，the output is always the 'Good luck'\n",
    "# a_input=input('Please give a number:')               #input() default return a string\n",
    "# #print('This input number is:',a_input)\n",
    "# if a_input==1:\n",
    "#     print('This is a good one')\n",
    "# elif a_input==2:\n",
    "#     print('See you next time')\n",
    "# else:\n",
    "#     print('Good luck')"
   ]
  },
  {
   "cell_type": "code",
   "execution_count": null,
   "id": "revised-basis",
   "metadata": {},
   "outputs": [],
   "source": [
    "  #正确案例\n",
    "a_input=input('Please give a number:')              #input() default return a string              \n",
    "print('This input number is:',a_input)\n",
    "if a_input=='1':\n",
    "    print('This is a good one')\n",
    "elif a_input==str(2):\n",
    "    print('See you next time')\n",
    "else:\n",
    "    print('Good luck')"
   ]
  },
  {
   "cell_type": "code",
   "execution_count": null,
   "id": "radio-clearance",
   "metadata": {},
   "outputs": [],
   "source": [
    "\n",
    "#元组 tuple & 列表 list\n"
   ]
  },
  {
   "cell_type": "code",
   "execution_count": 1,
   "id": "wired-schema",
   "metadata": {},
   "outputs": [
    {
     "name": "stdout",
     "output_type": "stream",
     "text": [
      "11\n",
      "13\n",
      "35\n",
      "45\n",
      "index= 0 number in list 11\n",
      "index= 1 number in list 13\n",
      "index= 2 number in list 35\n",
      "index= 3 number in list 45\n"
     ]
    }
   ],
   "source": [
    "a_tuple=(11,13,35,45)\n",
    "another_tuple=2,4,6,8\n",
    "\n",
    "a_list=[11,13,35,45]\n",
    "#index [0,1,2,3,...]\n",
    "\n",
    "for content in a_list:\n",
    "    print(content)\n",
    "\n",
    "for index in range(len(a_list)):              #len() --length\n",
    "    print('index=',index,'number in list',a_list[index])"
   ]
  },
  {
   "cell_type": "code",
   "execution_count": null,
   "id": "continent-remains",
   "metadata": {},
   "outputs": [],
   "source": [
    "\n",
    "#列表 list（有序容器）\n"
   ]
  },
  {
   "cell_type": "code",
   "execution_count": 3,
   "id": "silver-belly",
   "metadata": {},
   "outputs": [],
   "source": [
    "a=[1,2,3,4,3,2,1]"
   ]
  },
  {
   "cell_type": "code",
   "execution_count": 4,
   "id": "taken-bearing",
   "metadata": {},
   "outputs": [],
   "source": [
    "#a.append(0)                     # append()--在列表后添加一个0\n",
    "#a.insert(1,0)                   # insert(m,n)-- m:要添加数字在列表中的位置(0,1,2,...); n:所要添加的数字\n",
    "#a.remove(2)                     # remove(2)--remove掉第一次出现的2\n",
    "#a.sort()                        # sort()--对list里的数字从小到大进行排序，并覆盖原有的a\n",
    "                                 # sort(reverse=True)--对list里的数字从大到小进行排序，并覆盖原有的a"
   ]
  },
  {
   "cell_type": "code",
   "execution_count": 5,
   "id": "judicial-davis",
   "metadata": {},
   "outputs": [
    {
     "name": "stdout",
     "output_type": "stream",
     "text": [
      "[1, 2, 3, 4, 3, 2, 1]\n",
      "1\n",
      "1\n",
      "[2, 3, 4, 3]\n",
      "[1, 2, 3]\n",
      "[3, 2, 1]\n",
      "1\n",
      "2\n"
     ]
    }
   ],
   "source": [
    "print(a)                        #打印整个list,output: [1, 2, 3, 4, 3, 2, 1]\n",
    "print(a[0])                     #打印list中的第(0+1)位,output: 1\n",
    "print(a[-1])                    #打印list中的倒数第1位,output: 1\n",
    "print(a[1:5])                   #打印list中第2(count from 0)位到第5位，output: [2,3,4,3] \n",
    "print(a[:3])                    #打印list中的前3位，output: [1,2,3]\n",
    "print(a[-3:])                   #打印list中的后3位，output: [3,2,1]\n",
    "\n",
    "print(a.index(2))               #打印出第一次出现的2 在list中的索引(0,1,2,...)\n",
    "print(a.count(2))               #打印出list中出现2 出现的次数"
   ]
  },
  {
   "cell_type": "code",
   "execution_count": 6,
   "id": "extreme-relative",
   "metadata": {},
   "outputs": [],
   "source": [
    "\n",
    "#多维列表\n"
   ]
  },
  {
   "cell_type": "code",
   "execution_count": 7,
   "id": "developed-envelope",
   "metadata": {},
   "outputs": [
    {
     "name": "stdout",
     "output_type": "stream",
     "text": [
      "2\n",
      "2\n"
     ]
    }
   ],
   "source": [
    "a=[1,2,3,4,5]\n",
    "multi_dim_a=[[1,2,3],\n",
    "             [4,5,6],\n",
    "             [7,8,9]]\n",
    "print(a[1])\n",
    "print(multi_dim_a[0][1])"
   ]
  },
  {
   "cell_type": "code",
   "execution_count": 9,
   "id": "unavailable-visibility",
   "metadata": {},
   "outputs": [],
   "source": [
    "\n",
    "#字典(无序容器)的应用\n"
   ]
  },
  {
   "cell_type": "code",
   "execution_count": 10,
   "id": "turned-lodging",
   "metadata": {},
   "outputs": [],
   "source": [
    "a_list=[1,2,3,4,5,6]\n",
    "d={'apple':1,'pear':2,'orange':3}               #key可以是数字可以是string\n",
    "d1={1:'a','c':'b'}                              #但是key和内容需要一一对应"
   ]
  },
  {
   "cell_type": "code",
   "execution_count": 11,
   "id": "forbidden-bacteria",
   "metadata": {},
   "outputs": [
    {
     "name": "stdout",
     "output_type": "stream",
     "text": [
      "1\n",
      "4\n"
     ]
    }
   ],
   "source": [
    "print(d['apple'])\n",
    "print(a_list[3])"
   ]
  },
  {
   "cell_type": "code",
   "execution_count": 12,
   "id": "sufficient-insertion",
   "metadata": {},
   "outputs": [
    {
     "name": "stdout",
     "output_type": "stream",
     "text": [
      "{'apple': 1, 'orange': 3, 'b': 20}\n"
     ]
    }
   ],
   "source": [
    "del d['pear']                                   #删除字典d 里的 'pear'元素\n",
    "d['b']=20                                       #给字典d增加元素'b'：20\n",
    "print(d)"
   ]
  },
  {
   "cell_type": "code",
   "execution_count": 13,
   "id": "upset-surprise",
   "metadata": {},
   "outputs": [
    {
     "name": "stdout",
     "output_type": "stream",
     "text": [
      "{'apple': [1, 2, 3], 'pear': {1: 3, 3: 'a'}, 'orange': 100}\n",
      "a\n"
     ]
    }
   ],
   "source": [
    "def fun():\n",
    "    a=100\n",
    "    return a\n",
    "\n",
    "d2={'apple':[1,2,3],'pear':{1:3,3:'a'},'orange':fun()}          #字典里面可以嵌套使用list 和dict 和function...\n",
    "print(d2)\n",
    "print(d2['pear'][3])"
   ]
  },
  {
   "cell_type": "code",
   "execution_count": 14,
   "id": "wicked-claim",
   "metadata": {},
   "outputs": [],
   "source": [
    "\n",
    "#import载入模块\n"
   ]
  },
  {
   "cell_type": "code",
   "execution_count": 15,
   "id": "fatal-insert",
   "metadata": {},
   "outputs": [
    {
     "name": "stdout",
     "output_type": "stream",
     "text": [
      "time.struct_time(tm_year=2021, tm_mon=5, tm_mday=3, tm_hour=9, tm_min=39, tm_sec=56, tm_wday=0, tm_yday=123, tm_isdst=0)\n"
     ]
    }
   ],
   "source": [
    "import time\n",
    "print(time.localtime())"
   ]
  },
  {
   "cell_type": "code",
   "execution_count": 16,
   "id": "prompt-concrete",
   "metadata": {},
   "outputs": [
    {
     "name": "stdout",
     "output_type": "stream",
     "text": [
      "time.struct_time(tm_year=2021, tm_mon=5, tm_mday=3, tm_hour=9, tm_min=40, tm_sec=8, tm_wday=0, tm_yday=123, tm_isdst=0)\n"
     ]
    }
   ],
   "source": [
    "import time as t\n",
    "print(t.localtime())"
   ]
  },
  {
   "cell_type": "code",
   "execution_count": 17,
   "id": "civilian-opinion",
   "metadata": {},
   "outputs": [
    {
     "name": "stdout",
     "output_type": "stream",
     "text": [
      "time.struct_time(tm_year=2021, tm_mon=5, tm_mday=3, tm_hour=9, tm_min=40, tm_sec=19, tm_wday=0, tm_yday=123, tm_isdst=0)\n"
     ]
    }
   ],
   "source": [
    "from time import time,localtime\n",
    "print(localtime())"
   ]
  },
  {
   "cell_type": "code",
   "execution_count": 18,
   "id": "grand-australia",
   "metadata": {},
   "outputs": [
    {
     "name": "stdout",
     "output_type": "stream",
     "text": [
      "time.struct_time(tm_year=2021, tm_mon=5, tm_mday=3, tm_hour=9, tm_min=40, tm_sec=24, tm_wday=0, tm_yday=123, tm_isdst=0)\n"
     ]
    }
   ],
   "source": [
    "from time import *\n",
    "print(localtime())"
   ]
  },
  {
   "cell_type": "code",
   "execution_count": 19,
   "id": "emotional-potential",
   "metadata": {},
   "outputs": [],
   "source": [
    "\n",
    "# import 自己的模块\n"
   ]
  },
  {
   "cell_type": "code",
   "execution_count": 20,
   "id": "distinct-while",
   "metadata": {},
   "outputs": [
    {
     "name": "stdout",
     "output_type": "stream",
     "text": [
      "hi!\n"
     ]
    }
   ],
   "source": [
    "import sayhi\n",
    "sayhi.print_hi()"
   ]
  },
  {
   "cell_type": "code",
   "execution_count": 21,
   "id": "deadly-synthesis",
   "metadata": {},
   "outputs": [],
   "source": [
    "\n",
    "#continue & break\n"
   ]
  },
  {
   "cell_type": "code",
   "execution_count": 22,
   "id": "institutional-consequence",
   "metadata": {},
   "outputs": [
    {
     "name": "stdout",
     "output_type": "stream",
     "text": [
      "type something 1\n"
     ]
    },
    {
     "name": "stdout",
     "output_type": "stream",
     "text": [
      "finish run\n"
     ]
    }
   ],
   "source": [
    "a=True;\n",
    "while a:\n",
    "    b=input('type something')\n",
    "    if b=='1':\n",
    "        #a=False                        #flag（true/false)执行完当前的一轮循环再退出，不会忽略后面循环内的语句\n",
    "        break                           #break直接跳出循环，忽略循环里的下面的语句\n",
    "    else:\n",
    "        pass\n",
    "    print('still in while')\n",
    "print('finish run')\n"
   ]
  },
  {
   "cell_type": "code",
   "execution_count": null,
   "id": "earlier-findings",
   "metadata": {},
   "outputs": [],
   "source": [
    "# a=True;\n",
    "# while a:\n",
    "#     b=input('type something')\n",
    "#     if b=='1':\n",
    "#         continue                        #continue跳过循环里后面的语句重新开始循环\n",
    "#     else:\n",
    "#         pass\n",
    "#     print('still in while')\n",
    "# print('finish run')"
   ]
  },
  {
   "cell_type": "code",
   "execution_count": null,
   "id": "radio-substitute",
   "metadata": {},
   "outputs": [],
   "source": [
    "\n",
    "#错误处理try\n"
   ]
  },
  {
   "cell_type": "code",
   "execution_count": 1,
   "id": "fluid-piano",
   "metadata": {},
   "outputs": [
    {
     "name": "stdout",
     "output_type": "stream",
     "text": [
      "[Errno 2] No such file or directory: 'File_not_exist.txt'\n"
     ]
    },
    {
     "name": "stdout",
     "output_type": "stream",
     "text": [
      "Do you want to create a new file? y\n"
     ]
    }
   ],
   "source": [
    "try:                                                            #使用try先尝试运行语句\n",
    "    file=open('File_not_exist.txt','r+')\n",
    "except Exception as e:                                          #使用except来接受错误，并存储为e\n",
    "    print(e)\n",
    "    response=input('Do you want to create a new file?')         #response：对信息的处理\n",
    "    if response=='y':\n",
    "        file=open('File_not_exist.txt','w')\n",
    "    else:\n",
    "        pass\n",
    "else:                                                           #接着except\n",
    "    file.write('ssss')\n",
    "    file.close()"
   ]
  },
  {
   "cell_type": "code",
   "execution_count": 2,
   "id": "marked-thing",
   "metadata": {},
   "outputs": [],
   "source": [
    "\n",
    "#zip & lambda & map\n"
   ]
  },
  {
   "cell_type": "code",
   "execution_count": 3,
   "id": "hazardous-conversation",
   "metadata": {},
   "outputs": [
    {
     "name": "stdout",
     "output_type": "stream",
     "text": [
      "[(1, 4), (2, 5), (3, 6)]\n",
      "0.5 8\n",
      "1.0 10\n",
      "1.5 12\n",
      "[(1, 1, 4), (2, 2, 5), (3, 3, 6)]\n"
     ]
    }
   ],
   "source": [
    " #zip: 合并列表\n",
    "a=[1,2,3]\n",
    "b=[4,5,6]\n",
    "x=zip(a,b)\n",
    "y=list(zip(a,b))\n",
    "print(y)\n",
    "\n",
    "for i,j in zip(a,b):\n",
    "    print(i/2,j*2)\n",
    "\n",
    "z=list(zip(a,a,b))\n",
    "print(z)"
   ]
  },
  {
   "cell_type": "code",
   "execution_count": 4,
   "id": "micro-policy",
   "metadata": {},
   "outputs": [
    {
     "name": "stdout",
     "output_type": "stream",
     "text": [
      "5\n",
      "5\n",
      "[3]\n",
      "[3, 8]\n"
     ]
    }
   ],
   "source": [
    "#lambda:快速定义函数\n",
    "#map:map(function,iterm1,iterm2,...)\n",
    "def fun1(x,y):\n",
    "    return (x+y)\n",
    "a=fun1(2,3)\n",
    "print(a)                        #output: 5\n",
    "\n",
    "fun2=lambda x,y:x+y\n",
    "b=fun2(2,3)\n",
    "print(b)                        #output: 5\n",
    "\n",
    "map(fun1,[1],[2])               #output is an object\n",
    "c=list(map(fun1,[1],[2]))\n",
    "d=list(map(fun1,[1,3],[2,5]))\n",
    "print(c)                        #output: [3]\n",
    "print(d)                        #output: [3,8]\n"
   ]
  },
  {
   "cell_type": "code",
   "execution_count": 5,
   "id": "treated-reach",
   "metadata": {},
   "outputs": [],
   "source": [
    "\n",
    "#copy & deepcopy  ？\n"
   ]
  },
  {
   "cell_type": "code",
   "execution_count": 6,
   "id": "ranging-reviewer",
   "metadata": {},
   "outputs": [],
   "source": [
    "import copy                     # copy共用的是列表里的每个元素，列表地址不同，但是每个元素地址相同\n",
    "                                # deepcopy -- 列表地址不同，浅层元素地址相同，深层元素地址不同\n",
    "a=[1,2,3]\n",
    "b=a                             # a,b在同一个内存空间上\n"
   ]
  },
  {
   "cell_type": "code",
   "execution_count": 7,
   "id": "solid-clone",
   "metadata": {},
   "outputs": [
    {
     "name": "stdout",
     "output_type": "stream",
     "text": [
      "4342985728\n"
     ]
    }
   ],
   "source": [
    "print(id(a))                    # output 是a在硬盘中所用的索引"
   ]
  },
  {
   "cell_type": "code",
   "execution_count": 8,
   "id": "attached-parish",
   "metadata": {},
   "outputs": [
    {
     "name": "stdout",
     "output_type": "stream",
     "text": [
      "4342985728\n"
     ]
    }
   ],
   "source": [
    "print(id(b))"
   ]
  },
  {
   "cell_type": "code",
   "execution_count": 9,
   "id": "cultural-bonus",
   "metadata": {},
   "outputs": [
    {
     "name": "stdout",
     "output_type": "stream",
     "text": [
      "True\n"
     ]
    }
   ],
   "source": [
    "print(id(a)==id(b))             #output:True  a,b 索引相同"
   ]
  },
  {
   "cell_type": "code",
   "execution_count": 10,
   "id": "quantitative-frost",
   "metadata": {},
   "outputs": [
    {
     "name": "stdout",
     "output_type": "stream",
     "text": [
      "[11, 2, 3]\n"
     ]
    }
   ],
   "source": [
    "b[0]=11\n",
    "print(a)                        #output中，改变b的值,a的值随之改变"
   ]
  },
  {
   "cell_type": "code",
   "execution_count": 11,
   "id": "liberal-inflation",
   "metadata": {},
   "outputs": [],
   "source": [
    "c=copy.copy(a)"
   ]
  },
  {
   "cell_type": "code",
   "execution_count": 12,
   "id": "accepted-conversation",
   "metadata": {},
   "outputs": [
    {
     "name": "stdout",
     "output_type": "stream",
     "text": [
      "False\n",
      "True\n"
     ]
    }
   ],
   "source": [
    "print(id(a)==id(c))             #a,c索引不同（创建了新的object）\n",
    "print(id(a[1])==id(c[1]))       #a,c列表里 第相同个 元素的索引相同"
   ]
  },
  {
   "cell_type": "code",
   "execution_count": 13,
   "id": "organized-norway",
   "metadata": {},
   "outputs": [],
   "source": [
    "a=[1,2,[3,4]]\n",
    "e=copy.deepcopy(a)"
   ]
  },
  {
   "cell_type": "code",
   "execution_count": 14,
   "id": "bibliographic-wesley",
   "metadata": {},
   "outputs": [
    {
     "name": "stdout",
     "output_type": "stream",
     "text": [
      "False\n",
      "False\n",
      "True\n"
     ]
    }
   ],
   "source": [
    "print(id(a)==id(e))             #a,e索引不同（创建了新的object）\n",
    "print(id(e[2])==id(a[2]))       #a,e列表里 第2个 元素的索引不同（第二层没有完全复制）\n",
    "print(id(e[1])==id(e[1]))       #a,e列表里 第1个 元素的索引相同"
   ]
  },
  {
   "cell_type": "code",
   "execution_count": null,
   "id": "spare-thousand",
   "metadata": {},
   "outputs": [],
   "source": [
    "#Thread 多线程（threading）"
   ]
  },
  {
   "cell_type": "code",
   "execution_count": null,
   "id": "tender-category",
   "metadata": {},
   "outputs": [],
   "source": [
    "#多核运算 (multiprocessing)"
   ]
  },
  {
   "cell_type": "code",
   "execution_count": null,
   "id": "adverse-authority",
   "metadata": {},
   "outputs": [],
   "source": [
    "#why tkinter?"
   ]
  },
  {
   "cell_type": "code",
   "execution_count": 15,
   "id": "coastal-martial",
   "metadata": {},
   "outputs": [],
   "source": [
    "\n",
    "#pickle模块\n"
   ]
  },
  {
   "cell_type": "code",
   "execution_count": 16,
   "id": "beneficial-vessel",
   "metadata": {},
   "outputs": [
    {
     "name": "stdout",
     "output_type": "stream",
     "text": [
      "{'da': 111, 2: [23, 1, 4], '23': {1: 2, 'd': 'sad'}}\n"
     ]
    }
   ],
   "source": [
    "import pickle\n",
    "\n",
    "a_dict={'da':111,2:[23,1,4],'23':{1:2,'d':'sad'}}\n",
    "\n",
    "file =open('pickle_example.pickle','wb')\n",
    "pickle.dump(a_dict,file)\n",
    "file.close()\n",
    "\n",
    "with open('pickle_example.pickle','rb') as file:\n",
    "    a_dict1 = pickle.load(file)\n",
    "\n",
    "## file=open('pickle_example.pickle','rb')\n",
    "## a_dict1=pickle.load(file)\n",
    "## file.close()\n",
    "\n",
    "print(a_dict1)"
   ]
  },
  {
   "cell_type": "code",
   "execution_count": 17,
   "id": "decimal-guard",
   "metadata": {},
   "outputs": [],
   "source": [
    "\n",
    "#set功能：在列表中找不不重合的部分\n"
   ]
  },
  {
   "cell_type": "code",
   "execution_count": 21,
   "id": "unnecessary-exposure",
   "metadata": {},
   "outputs": [
    {
     "name": "stdout",
     "output_type": "stream",
     "text": [
      "{'b', 'a', 'c', 'd'}\n",
      "<class 'set'>\n",
      "<class 'dict'>\n"
     ]
    }
   ],
   "source": [
    "char_list=['a','b','c','c','d','d','d']\n",
    "print(set(char_list))\n",
    "print(type(set(char_list)))\n",
    "print(type({1:2}))"
   ]
  },
  {
   "cell_type": "code",
   "execution_count": 20,
   "id": "forty-preference",
   "metadata": {},
   "outputs": [
    {
     "name": "stdout",
     "output_type": "stream",
     "text": [
      "{'t', 'o', 'T', 'U', 'N', 'S', 'l', 'm', 'e', 'I', ' ', '!', 'W', 'c'}\n"
     ]
    }
   ],
   "source": [
    "sentence='Welcome to NUIST!'\n",
    "print(set(sentence))"
   ]
  },
  {
   "cell_type": "code",
   "execution_count": 22,
   "id": "presidential-integration",
   "metadata": {},
   "outputs": [
    {
     "name": "stdout",
     "output_type": "stream",
     "text": [
      "{'d', 'b', 'x', 'a', 'c'}\n"
     ]
    }
   ],
   "source": [
    "unique_char=set(char_list)\n",
    "unique_char.add('x')                        #在char_list里添加一个char类型数据\n",
    "                                            # cann't add a list! ( unique_char.add(['a','x'] )\n",
    "print(unique_char)"
   ]
  },
  {
   "cell_type": "code",
   "execution_count": 23,
   "id": "determined-integer",
   "metadata": {},
   "outputs": [
    {
     "name": "stdout",
     "output_type": "stream",
     "text": [
      "{'x', 'b', 'c', 'd'}\n",
      "{'a'}\n"
     ]
    }
   ],
   "source": [
    "set1=unique_char\n",
    "set2={'a','e','i'}\n",
    "\n",
    "print(set1.difference(set2))                #set1.differece(set2)--找set1与set2不同的元素\n",
    "print(set1.intersection(set2))              #set1.intersection(set2)--寻找set1与set2的交集"
   ]
  },
  {
   "cell_type": "code",
   "execution_count": 24,
   "id": "swiss-match",
   "metadata": {},
   "outputs": [
    {
     "name": "stdout",
     "output_type": "stream",
     "text": [
      "None\n",
      "{'d', 'b', 'a', 'c'}\n",
      "None\n",
      "{'d', 'b', 'a', 'c'}\n"
     ]
    }
   ],
   "source": [
    "print(unique_char.remove('x'))              #unique_char.remove('')--移除set()中的''元素，若此元素不存在，会报错！\n",
    "print(unique_char)\n",
    "\n",
    "print(unique_char.discard('x'))             #unique_char.discard('')--移除set()中的''元素，若此元素不存在，不会报错！\n",
    "print(unique_char)"
   ]
  },
  {
   "cell_type": "code",
   "execution_count": 25,
   "id": "packed-third",
   "metadata": {},
   "outputs": [
    {
     "name": "stdout",
     "output_type": "stream",
     "text": [
      "set()\n"
     ]
    }
   ],
   "source": [
    "unique_char.clear()                         #清空char_list\n",
    "print(unique_char)"
   ]
  },
  {
   "cell_type": "code",
   "execution_count": 26,
   "id": "handy-monroe",
   "metadata": {},
   "outputs": [],
   "source": [
    "\n",
    "#正则表达式 regular expression（网页爬虫）\n"
   ]
  },
  {
   "cell_type": "code",
   "execution_count": 27,
   "id": "nuclear-tuition",
   "metadata": {},
   "outputs": [],
   "source": [
    "import re"
   ]
  },
  {
   "cell_type": "code",
   "execution_count": 28,
   "id": "swiss-terminal",
   "metadata": {},
   "outputs": [
    {
     "name": "stdout",
     "output_type": "stream",
     "text": [
      "True\n",
      "False\n"
     ]
    }
   ],
   "source": [
    "#matching string\n",
    "pattern1=\"cat\"\n",
    "pattern2=\"bird\"\n",
    "string=\"dog runs to cat\"\n",
    "print(pattern1 in string)                               \n",
    "print(pattern2 in string)                               "
   ]
  },
  {
   "cell_type": "code",
   "execution_count": 29,
   "id": "ongoing-bench",
   "metadata": {},
   "outputs": [
    {
     "name": "stdout",
     "output_type": "stream",
     "text": [
      "<re.Match object; span=(12, 15), match='cat'>\n",
      "None\n"
     ]
    }
   ],
   "source": [
    "#regular expression\n",
    "pattern1=\"cat\"\n",
    "pattern2=\"bird\"\n",
    "string=\"dog runs to cat\"\n",
    "print(re.search(pattern1,string))                      \n",
    "print(re.search(pattern2,string))                       "
   ]
  },
  {
   "cell_type": "code",
   "execution_count": 30,
   "id": "developed-moses",
   "metadata": {},
   "outputs": [
    {
     "name": "stdout",
     "output_type": "stream",
     "text": [
      "<re.Match object; span=(4, 7), match='run'>\n"
     ]
    }
   ],
   "source": [
    "#multiple patterns(\"run\" or \"ran\")\n",
    "ptn = f\"r[au]n\"\n",
    "print(re.search(ptn,\"dog runs to cat\"))                 "
   ]
  },
  {
   "cell_type": "code",
   "execution_count": 31,
   "id": "heated-humor",
   "metadata": {},
   "outputs": [
    {
     "name": "stdout",
     "output_type": "stream",
     "text": [
      "None\n",
      "<re.Match object; span=(4, 7), match='run'>\n",
      "<re.Match object; span=(4, 7), match='r2n'>\n",
      "<re.Match object; span=(4, 7), match='run'>\n"
     ]
    }
   ],
   "source": [
    "#continue\n",
    "print(re.search(r\"r[A-Z]n\",\"dog runs to cat\"))          \n",
    "print(re.search(r\"r[a-z]n\",\"dog runs to cat\"))          \n",
    "print(re.search(r\"r[0-9]n\",\"dog r2ns to cat\"))          \n",
    "print(re.search(r\"r[0-9a-z]n\",\"dog runs to cat\")) "
   ]
  },
  {
   "cell_type": "code",
   "execution_count": 32,
   "id": "tracked-seattle",
   "metadata": {},
   "outputs": [
    {
     "name": "stdout",
     "output_type": "stream",
     "text": [
      "<re.Match object; span=(4, 7), match='r4n'>\n"
     ]
    }
   ],
   "source": [
    "#\\d: decimal digit\n",
    "print(re.search(r\"r\\dn\",\"run r4n\"))"
   ]
  },
  {
   "cell_type": "code",
   "execution_count": 33,
   "id": "british-ranch",
   "metadata": {},
   "outputs": [
    {
     "name": "stdout",
     "output_type": "stream",
     "text": [
      "<re.Match object; span=(0, 3), match='run'>\n"
     ]
    }
   ],
   "source": [
    "#\\D: any non-decimal digit\n",
    "print(re.search(r\"r\\Dn\",\"run r4n\"))                     "
   ]
  },
  {
   "cell_type": "code",
   "execution_count": 34,
   "id": "animal-showcase",
   "metadata": {},
   "outputs": [
    {
     "name": "stdout",
     "output_type": "stream",
     "text": [
      "<re.Match object; span=(0, 3), match='r\\nn'>\n"
     ]
    }
   ],
   "source": [
    "#\\s: any white space [\\t\\n\\r\\f\\v]\n",
    "#\\S: opposite to \\s\n",
    "print(re.search(r\"r\\sn\",\"r\\nn r4n\"))                    \n",
    "# an so on"
   ]
  }
 ],
 "metadata": {
  "kernelspec": {
   "display_name": "Python 3",
   "language": "python",
   "name": "python3"
  },
  "language_info": {
   "codemirror_mode": {
    "name": "ipython",
    "version": 3
   },
   "file_extension": ".py",
   "mimetype": "text/x-python",
   "name": "python",
   "nbconvert_exporter": "python",
   "pygments_lexer": "ipython3",
   "version": "3.10.10"
  }
 },
 "nbformat": 4,
 "nbformat_minor": 5
}
