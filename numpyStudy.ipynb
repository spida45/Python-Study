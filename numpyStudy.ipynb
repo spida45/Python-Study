{
 "cells": [
  {
   "cell_type": "code",
   "execution_count": 1,
   "id": "right-constant",
   "metadata": {},
   "outputs": [],
   "source": [
    "import numpy as np"
   ]
  },
  {
   "cell_type": "code",
   "execution_count": 2,
   "id": "covered-distribution",
   "metadata": {},
   "outputs": [],
   "source": [
    "\n",
    "#start\n"
   ]
  },
  {
   "cell_type": "code",
   "execution_count": 3,
   "id": "independent-internship",
   "metadata": {},
   "outputs": [
    {
     "name": "stdout",
     "output_type": "stream",
     "text": [
      "[[1 2 3]\n",
      " [2 3 4]]\n",
      "number of dim: 2\n",
      "shape: (2, 3)\n",
      "size: 6\n"
     ]
    }
   ],
   "source": [
    "array=np.array([[1,2,3],\n",
    "               [2,3,4]])\n",
    "\n",
    "print(array)\n",
    "print('number of dim:',array.ndim)\n",
    "print('shape:',array.shape)\n",
    "print('size:',array.size)"
   ]
  },
  {
   "cell_type": "code",
   "execution_count": 4,
   "id": "operational-nancy",
   "metadata": {},
   "outputs": [],
   "source": [
    "\n",
    "#numpy 创建数组\n"
   ]
  },
  {
   "cell_type": "code",
   "execution_count": 5,
   "id": "fifth-closing",
   "metadata": {},
   "outputs": [
    {
     "name": "stdout",
     "output_type": "stream",
     "text": [
      "[ 2 23  0]\n"
     ]
    }
   ],
   "source": [
    "a=np.array([2,23,0],dtype=np.int16)                 #dtype: 定义数据类型\n",
    "print(a)  "
   ]
  },
  {
   "cell_type": "code",
   "execution_count": 6,
   "id": "executive-china",
   "metadata": {},
   "outputs": [
    {
     "name": "stdout",
     "output_type": "stream",
     "text": [
      "[[ 2 23  0]\n",
      " [24 32 34]]\n"
     ]
    }
   ],
   "source": [
    "a1=np.array([[2,23,0],\n",
    "             [24,32,34]])\n",
    "print(a1)"
   ]
  },
  {
   "cell_type": "code",
   "execution_count": 7,
   "id": "grateful-estonia",
   "metadata": {},
   "outputs": [
    {
     "name": "stdout",
     "output_type": "stream",
     "text": [
      "[[0 0 0 0]\n",
      " [0 0 0 0]\n",
      " [0 0 0 0]]\n"
     ]
    }
   ],
   "source": [
    "a2=np.zeros((3,4),dtype=np.int16)                   #生成一个三行四列的0矩阵\n",
    "print(a2)"
   ]
  },
  {
   "cell_type": "code",
   "execution_count": 8,
   "id": "figured-dictionary",
   "metadata": {},
   "outputs": [
    {
     "name": "stdout",
     "output_type": "stream",
     "text": [
      "[[-1.49166815e-154 -1.49166815e-154  9.88131292e-323  0.00000000e+000]\n",
      " [ 0.00000000e+000  0.00000000e+000  0.00000000e+000  0.00000000e+000]\n",
      " [ 0.00000000e+000  0.00000000e+000  0.00000000e+000  0.00000000e+000]]\n"
     ]
    }
   ],
   "source": [
    "a3=np.empty((3,4))                                  #生成一个空矩阵，里面元素随机\n",
    "print(a3)"
   ]
  },
  {
   "cell_type": "code",
   "execution_count": 9,
   "id": "comfortable-polyester",
   "metadata": {},
   "outputs": [
    {
     "name": "stdout",
     "output_type": "stream",
     "text": [
      "[10 12 14 16 18]\n"
     ]
    }
   ],
   "source": [
    "a4=np.arange(10,20,2)                               #数列arange(start,args,kwargs)\n",
    "print(a4) "
   ]
  },
  {
   "cell_type": "code",
   "execution_count": 10,
   "id": "broke-salad",
   "metadata": {},
   "outputs": [
    {
     "name": "stdout",
     "output_type": "stream",
     "text": [
      "[[ 0  1  2  3]\n",
      " [ 4  5  6  7]\n",
      " [ 8  9 10 11]]\n"
     ]
    }
   ],
   "source": [
    "a5=np.arange(12).reshape((3,4))                     #生成三行四列 0-11 的数列,start和步长可以省略\n",
    "print(a5)"
   ]
  },
  {
   "cell_type": "code",
   "execution_count": 11,
   "id": "alert-failing",
   "metadata": {},
   "outputs": [
    {
     "name": "stdout",
     "output_type": "stream",
     "text": [
      "[ 1.    3.25  5.5   7.75 10.  ]\n"
     ]
    }
   ],
   "source": [
    "a6=np.linspace(1,10,5)                              #生成 1-10 5段线段\n",
    "print(a6)"
   ]
  },
  {
   "cell_type": "code",
   "execution_count": 12,
   "id": "coordinate-square",
   "metadata": {},
   "outputs": [],
   "source": [
    "\n",
    "# numpy 基础运算\n"
   ]
  },
  {
   "cell_type": "code",
   "execution_count": 13,
   "id": "pacific-responsibility",
   "metadata": {},
   "outputs": [
    {
     "name": "stdout",
     "output_type": "stream",
     "text": [
      "[10 20 30 40] [0 1 2 3]\n",
      "[ True  True  True False]\n"
     ]
    }
   ],
   "source": [
    "#数列运算\n",
    "a=np.array([10,20,30,40])\n",
    "b=np.arange(4)\n",
    "print(a,b)\n",
    "print(b<3)                                          #比较运算"
   ]
  },
  {
   "cell_type": "code",
   "execution_count": 14,
   "id": "anticipated-reducing",
   "metadata": {},
   "outputs": [
    {
     "name": "stdout",
     "output_type": "stream",
     "text": [
      "[10 19 28 37]\n"
     ]
    }
   ],
   "source": [
    "c=a-b                                               #数列四则运算（逐个对应运算）乘方（**）\n",
    "print(c)"
   ]
  },
  {
   "cell_type": "code",
   "execution_count": 15,
   "id": "polyphonic-bracelet",
   "metadata": {},
   "outputs": [
    {
     "name": "stdout",
     "output_type": "stream",
     "text": [
      "[-5.44021111  9.12945251 -9.88031624  7.4511316 ]\n"
     ]
    }
   ],
   "source": [
    "c1=10*np.sin(a)                                     #数列的三角函数运算\n",
    "print(c1)"
   ]
  },
  {
   "cell_type": "code",
   "execution_count": 17,
   "id": "aggregate-prototype",
   "metadata": {},
   "outputs": [
    {
     "name": "stdout",
     "output_type": "stream",
     "text": [
      "[[1 1]\n",
      " [0 1]]\n",
      "[[0 1]\n",
      " [2 3]]\n"
     ]
    }
   ],
   "source": [
    "#矩阵(二维数组)乘法\n",
    "a=np.array([[1,1],\n",
    "            [0,1]])\n",
    "b=np.arange(4).reshape((2,2))\n",
    "\n",
    "print(a)\n",
    "print(b)"
   ]
  },
  {
   "cell_type": "code",
   "execution_count": 18,
   "id": "stainless-spectacular",
   "metadata": {},
   "outputs": [
    {
     "name": "stdout",
     "output_type": "stream",
     "text": [
      "[[0 1]\n",
      " [0 3]]\n",
      "[[2 4]\n",
      " [2 3]]\n",
      "[[2 4]\n",
      " [2 3]]\n"
     ]
    }
   ],
   "source": [
    "c=a*b                                               #a*b:逐个相乘\n",
    "c_dot=np.dot(a,b)                                   #np.dot(a,b): 矩阵乘法\n",
    "c_dot_1=a.dot(b)                                    #equal to line66\n",
    "print(c)\n",
    "print(c_dot)\n",
    "print(c_dot_1)"
   ]
  },
  {
   "cell_type": "code",
   "execution_count": 19,
   "id": "internal-culture",
   "metadata": {},
   "outputs": [
    {
     "name": "stdout",
     "output_type": "stream",
     "text": [
      "[[0.84401168 0.93284866 0.94374939 0.08271897]\n",
      " [0.04957357 0.31757467 0.42514104 0.75583064]]\n",
      "[2.80332869 1.54811993]\n",
      "0.049573571803871896\n",
      "0.9437493854276111\n"
     ]
    }
   ],
   "source": [
    "a=np.random.random((2,4))                           \n",
    "print(a)                                            #output是随机的两行四列的矩阵\n",
    "\n",
    "print(np.sum(a,axis=1))                             #numpy中元素求和，axis=0:在行中操作； axis=1:在列中操作\n",
    "print(np.min(a))                                    #numpy中元素求min\n",
    "print(np.max(a))                                    #numpy中元素求max"
   ]
  },
  {
   "cell_type": "code",
   "execution_count": 20,
   "id": "fleet-finland",
   "metadata": {},
   "outputs": [
    {
     "name": "stdout",
     "output_type": "stream",
     "text": [
      "[[ 2  3  4  5]\n",
      " [ 6  7  8  9]\n",
      " [10 11 12 13]]\n",
      "0\n",
      "11\n",
      "7.5 7.5\n",
      "7.5\n",
      "[ 2  5  9 14 20 27 35 44 54 65 77 90]\n",
      "[[1 1 1]\n",
      " [1 1 1]\n",
      " [1 1 1]]\n",
      "(array([0, 0, 0, 0, 1, 1, 1, 1, 2, 2, 2, 2]), array([0, 1, 2, 3, 0, 1, 2, 3, 0, 1, 2, 3]))\n",
      "[[ 2  3  4  5]\n",
      " [ 6  7  8  9]\n",
      " [10 11 12 13]]\n",
      "[[ 2  6 10]\n",
      " [ 3  7 11]\n",
      " [ 4  8 12]\n",
      " [ 5  9 13]]\n",
      "[[ 2  6 10]\n",
      " [ 3  7 11]\n",
      " [ 4  8 12]\n",
      " [ 5  9 13]]\n",
      "[[5 5 5 5]\n",
      " [6 7 8 9]\n",
      " [9 9 9 9]]\n"
     ]
    }
   ],
   "source": [
    "A=np.arange(2,14).reshape(3,4)\n",
    "print(A)\n",
    "print(np.argmin(A))                                 #最小值的索引\n",
    "print(np.argmax(A))                                 #最大值的索引\n",
    "print(np.average(A),A.mean())                       #计算平均值\n",
    "print(np.median(A))                                 #计算中位数\n",
    "print(np.cumsum(A))                                 #第i个元素是前i个数累加\n",
    "print(np.diff(A))                                   #计算差值\n",
    "print(np.nonzero(A))                                #输出矩阵中各个元素的行数与列数\n",
    "print(np.sort(A))                                   #对数组A进行排序\n",
    "print(np.transpose(A))                              #矩阵的转置\n",
    "print(A.T)\n",
    "print(np.clip(A,5,9))                               #保持5-9之间的数，<5的数变成5，>9的数变成9"
   ]
  },
  {
   "cell_type": "code",
   "execution_count": 21,
   "id": "waiting-toolbox",
   "metadata": {},
   "outputs": [],
   "source": [
    "\n",
    "#numpy 索引\n"
   ]
  },
  {
   "cell_type": "code",
   "execution_count": 23,
   "id": "increased-thesis",
   "metadata": {},
   "outputs": [
    {
     "name": "stdout",
     "output_type": "stream",
     "text": [
      "[[ 3  4  5  6]\n",
      " [ 7  8  9 10]\n",
      " [11 12 13 14]]\n",
      "[11 12 13 14]\n",
      "[11 12 13 14]\n",
      "[ 7  8  9 10]\n",
      "8\n",
      "8\n"
     ]
    }
   ],
   "source": [
    "A=np.arange(3,15).reshape(3,4)\n",
    "print(A)\n",
    "\n",
    "print(A[2])                                         #output: [11 12 13 14]\n",
    "print(A[2,:])\n",
    "print(A[1,:])\n",
    "print(A[1][1])                                      #output: 8\n",
    "print(A[1,1])                                       #output: 8"
   ]
  },
  {
   "cell_type": "code",
   "execution_count": 25,
   "id": "integral-growth",
   "metadata": {},
   "outputs": [
    {
     "name": "stdout",
     "output_type": "stream",
     "text": [
      "[3 4 5 6]\n",
      "[ 7  8  9 10]\n",
      "[11 12 13 14]\n",
      "[ 3  7 11]\n",
      "[ 4  8 12]\n",
      "[ 5  9 13]\n",
      "[ 6 10 14]\n",
      "[ 3  4  5  6  7  8  9 10 11 12 13 14]\n",
      "3\n",
      "4\n",
      "5\n",
      "6\n",
      "7\n",
      "8\n",
      "9\n",
      "10\n",
      "11\n",
      "12\n",
      "13\n",
      "14\n"
     ]
    }
   ],
   "source": [
    "for row in A:\n",
    "    print(row)\n",
    "\n",
    "for column in A.T:\n",
    "    print(column)\n",
    "\n",
    "print(A.flatten())                                  # A.flatten():把多维数组展开成一维数组\n",
    "for item in A.flat:\n",
    "    print(item)"
   ]
  },
  {
   "cell_type": "code",
   "execution_count": 26,
   "id": "intensive-difficulty",
   "metadata": {},
   "outputs": [],
   "source": [
    "\n",
    "#numpy array合并\n"
   ]
  },
  {
   "cell_type": "code",
   "execution_count": 28,
   "id": "undefined-kernel",
   "metadata": {},
   "outputs": [
    {
     "name": "stdout",
     "output_type": "stream",
     "text": [
      "[[1 1 1]\n",
      " [2 2 2]]\n",
      "(3,) (2, 3)\n"
     ]
    }
   ],
   "source": [
    "A= np.array([1,1,1])\n",
    "B= np.array([2,2,2])\n",
    "\n",
    "C=np.vstack((A,B))                               #vertical stack:把两个数组合并成一个二维数组\n",
    "print(C)  \n",
    "print(A.shape,C.shape)"
   ]
  },
  {
   "cell_type": "code",
   "execution_count": 29,
   "id": "invisible-corporation",
   "metadata": {},
   "outputs": [
    {
     "name": "stdout",
     "output_type": "stream",
     "text": [
      "[1 1 1 2 2 2]\n",
      "(3,) (6,)\n"
     ]
    }
   ],
   "source": [
    "D=np.hstack((A,B))                                #horizontal stack：把两个数组合并成一个一维数组(可以多个数组进行合并）\n",
    "print(D)                                         \n",
    "print(A.shape,D.shape)\n"
   ]
  },
  {
   "cell_type": "code",
   "execution_count": 30,
   "id": "endangered-bargain",
   "metadata": {},
   "outputs": [
    {
     "name": "stdout",
     "output_type": "stream",
     "text": [
      "[[1 1 1]]\n",
      "[[1]\n",
      " [1]\n",
      " [1]]\n"
     ]
    }
   ],
   "source": [
    "#np.newaxis :增加维度\n",
    "print(A[np.newaxis,:])                            #output: [[1 1 1]]\n",
    "print(A[:,np.newaxis])                            #output为三维数组"
   ]
  },
  {
   "cell_type": "code",
   "execution_count": 31,
   "id": "appointed-significance",
   "metadata": {},
   "outputs": [
    {
     "name": "stdout",
     "output_type": "stream",
     "text": [
      "[[1 2 2 1]\n",
      " [1 2 2 1]\n",
      " [1 2 2 1]]\n"
     ]
    }
   ],
   "source": [
    "A=np.array([1,1,1])[:,np.newaxis]\n",
    "B=np.array([2,2,2])[:,np.newaxis]\n",
    "\n",
    "C=np.concatenate((A,B,B,A),axis=1)                 #多个array进行横向合并（axis=0--纵向）\n",
    "print(C)"
   ]
  },
  {
   "cell_type": "code",
   "execution_count": 32,
   "id": "interior-denial",
   "metadata": {},
   "outputs": [],
   "source": [
    "\n",
    "#numpy array 分割\n"
   ]
  },
  {
   "cell_type": "code",
   "execution_count": 34,
   "id": "broken-pantyhose",
   "metadata": {},
   "outputs": [
    {
     "name": "stdout",
     "output_type": "stream",
     "text": [
      "[[ 0  1  2  3]\n",
      " [ 4  5  6  7]\n",
      " [ 8  9 10 11]]\n",
      "[array([[0, 1],\n",
      "       [4, 5],\n",
      "       [8, 9]]), array([[ 2,  3],\n",
      "       [ 6,  7],\n",
      "       [10, 11]])]\n",
      "[array([[0, 1],\n",
      "       [4, 5],\n",
      "       [8, 9]]), array([[ 2,  3],\n",
      "       [ 6,  7],\n",
      "       [10, 11]])]\n"
     ]
    }
   ],
   "source": [
    "A=np.arange(12).reshape(3,4)\n",
    "print(A)\n",
    "\n",
    "print(np.split(A,2,axis=1))                     #np.split(要分割的数组，分割完数组的个数，横向or纵向）--只能平均分割\n",
    "print(np.array_split(A,2,axis=1))               #np.array_split( , , )--可以不等分割"
   ]
  },
  {
   "cell_type": "code",
   "execution_count": 35,
   "id": "structured-prison",
   "metadata": {},
   "outputs": [
    {
     "name": "stdout",
     "output_type": "stream",
     "text": [
      "[array([[0, 1, 2, 3]]), array([[4, 5, 6, 7]]), array([[ 8,  9, 10, 11]])]\n",
      "[array([[0, 1],\n",
      "       [4, 5],\n",
      "       [8, 9]]), array([[ 2,  3],\n",
      "       [ 6,  7],\n",
      "       [10, 11]])]\n"
     ]
    }
   ],
   "source": [
    "print(np.vsplit(A,3))\n",
    "print(np.hsplit(A,2))"
   ]
  },
  {
   "cell_type": "code",
   "execution_count": 36,
   "id": "latest-consumer",
   "metadata": {},
   "outputs": [],
   "source": [
    "\n",
    "#numpy copy & deep copy  浅拷贝与深拷贝\n"
   ]
  },
  {
   "cell_type": "code",
   "execution_count": 37,
   "id": "grave-emphasis",
   "metadata": {},
   "outputs": [
    {
     "name": "stdout",
     "output_type": "stream",
     "text": [
      "[0 1 2 3]\n"
     ]
    }
   ],
   "source": [
    "a= np.arange(4)\n",
    "print(a)"
   ]
  },
  {
   "cell_type": "code",
   "execution_count": 38,
   "id": "inappropriate-tuning",
   "metadata": {},
   "outputs": [],
   "source": [
    "b = a                                 #深拷贝\n",
    "c = a\n",
    "d = b"
   ]
  },
  {
   "cell_type": "code",
   "execution_count": 39,
   "id": "alternate-webcam",
   "metadata": {},
   "outputs": [
    {
     "name": "stdout",
     "output_type": "stream",
     "text": [
      "[11  1  2  3]\n"
     ]
    }
   ],
   "source": [
    "a[0]=11                             #改变a中第一个元素\n",
    "print(a)"
   ]
  },
  {
   "cell_type": "code",
   "execution_count": 40,
   "id": "judicial-customer",
   "metadata": {},
   "outputs": [
    {
     "name": "stdout",
     "output_type": "stream",
     "text": [
      "True\n",
      "[11  1  2  3] [11  1  2  3] [11  1  2  3]\n"
     ]
    }
   ],
   "source": [
    "print(b is a)\n",
    "print(b,c,d)                        #b,c,d随之改变"
   ]
  },
  {
   "cell_type": "code",
   "execution_count": 41,
   "id": "opened-sheep",
   "metadata": {},
   "outputs": [
    {
     "name": "stdout",
     "output_type": "stream",
     "text": [
      "[11 22 33  3] [11 22 33  3]\n"
     ]
    }
   ],
   "source": [
    "d[1:3]=[22,33]                      #改变d中元素\n",
    "print(d,a)                          #a 也随之改变"
   ]
  },
  {
   "cell_type": "code",
   "execution_count": 42,
   "id": "therapeutic-investigation",
   "metadata": {},
   "outputs": [
    {
     "name": "stdout",
     "output_type": "stream",
     "text": [
      "[11 22 33 44] [11 22 33  3]\n"
     ]
    }
   ],
   "source": [
    "b1=a.copy()                         #浅拷贝（指向的地址不同）\n",
    "a[3]=44                             #改变a中元素\n",
    "print(a,b1)                         #b1 不随a 改变"
   ]
  }
 ],
 "metadata": {
  "kernelspec": {
   "display_name": "Python 3",
   "language": "python",
   "name": "python3"
  },
  "language_info": {
   "codemirror_mode": {
    "name": "ipython",
    "version": 3
   },
   "file_extension": ".py",
   "mimetype": "text/x-python",
   "name": "python",
   "nbconvert_exporter": "python",
   "pygments_lexer": "ipython3",
   "version": "3.9.10"
  }
 },
 "nbformat": 4,
 "nbformat_minor": 5
}
