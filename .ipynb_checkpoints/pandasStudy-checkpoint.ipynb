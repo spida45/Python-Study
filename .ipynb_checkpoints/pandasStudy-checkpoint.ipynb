{
 "cells": [
  {
   "cell_type": "code",
   "execution_count": 6,
   "id": "inside-harrison",
   "metadata": {},
   "outputs": [],
   "source": [
    "import pandas as pd\n",
    "import numpy as np\n",
    "import matplotlib.pyplot as plt\n"
   ]
  },
  {
   "cell_type": "code",
   "execution_count": 2,
   "id": "sustainable-catering",
   "metadata": {},
   "outputs": [
    {
     "name": "stdout",
     "output_type": "stream",
     "text": [
      "0     1.0\n",
      "1     3.0\n",
      "2     6.0\n",
      "3     NaN\n",
      "4    44.0\n",
      "5     1.0\n",
      "dtype: float64\n"
     ]
    }
   ],
   "source": [
    "\n",
    "# pandas 基本介绍\n",
    "\n",
    "s=pd.Series([1,3,6,np.nan,44,1])                        #np.nan--not a number\n",
    "print(s)"
   ]
  },
  {
   "cell_type": "code",
   "execution_count": 3,
   "id": "scenic-stream",
   "metadata": {},
   "outputs": [
    {
     "name": "stdout",
     "output_type": "stream",
     "text": [
      "DatetimeIndex(['2021-03-07', '2021-03-08', '2021-03-09', '2021-03-10',\n",
      "               '2021-03-11', '2021-03-12'],\n",
      "              dtype='datetime64[ns]', freq='D')\n"
     ]
    }
   ],
   "source": [
    "dates=pd.date_range('20210307',periods=6)\n",
    "print(dates)"
   ]
  },
  {
   "cell_type": "code",
   "execution_count": 4,
   "id": "equal-queue",
   "metadata": {},
   "outputs": [
    {
     "name": "stdout",
     "output_type": "stream",
     "text": [
      "                   a         b         c         d\n",
      "2021-03-07  0.167713 -0.083678  1.670215  0.421660\n",
      "2021-03-08  1.673635  0.767566 -1.200621 -1.864991\n",
      "2021-03-09 -1.466278 -0.262894 -0.339629 -0.949830\n",
      "2021-03-10  0.118231 -2.414930 -0.067324 -0.607701\n",
      "2021-03-11 -1.747067 -0.835419  1.635967  1.490373\n",
      "2021-03-12  0.096112 -1.237240  1.058559 -0.765626\n"
     ]
    }
   ],
   "source": [
    "df= pd.DataFrame(np.random.randn(6,4),index=dates,columns=['a','b','c','d'])\n",
    "print(df)"
   ]
  },
  {
   "cell_type": "code",
   "execution_count": 5,
   "id": "demographic-kentucky",
   "metadata": {},
   "outputs": [
    {
     "name": "stdout",
     "output_type": "stream",
     "text": [
      "   0  1   2   3\n",
      "0  0  1   2   3\n",
      "1  4  5   6   7\n",
      "2  8  9  10  11\n"
     ]
    }
   ],
   "source": [
    "df1=pd.DataFrame(np.arange(12).reshape((3,4)))\n",
    "print(df1)"
   ]
  },
  {
   "cell_type": "code",
   "execution_count": 7,
   "id": "independent-diameter",
   "metadata": {},
   "outputs": [],
   "source": [
    "df2=pd.DataFrame({'A':1.,\n",
    "                  'B':pd.Timestamp('20210307'),\n",
    "                  'C':pd.Series(1,index=list(range(4))),\n",
    "                  'D':np.array([3]*4,dtype='int32'),\n",
    "                  'E':pd.Categorical([\"test\",\"train\",\"test\",\"train\"]),\n",
    "                  'F':'fool'})"
   ]
  },
  {
   "cell_type": "code",
   "execution_count": 8,
   "id": "moderate-warning",
   "metadata": {},
   "outputs": [
    {
     "name": "stdout",
     "output_type": "stream",
     "text": [
      "     A          B  C  D      E     F\n",
      "0  1.0 2021-03-07  1  3   test  fool\n",
      "1  1.0 2021-03-07  1  3  train  fool\n",
      "2  1.0 2021-03-07  1  3   test  fool\n",
      "3  1.0 2021-03-07  1  3  train  fool\n"
     ]
    }
   ],
   "source": [
    "print(df2)  "
   ]
  },
  {
   "cell_type": "code",
   "execution_count": 9,
   "id": "guilty-lighting",
   "metadata": {},
   "outputs": [
    {
     "name": "stdout",
     "output_type": "stream",
     "text": [
      "A           float64\n",
      "B    datetime64[ns]\n",
      "C             int64\n",
      "D             int32\n",
      "E          category\n",
      "F            object\n",
      "dtype: object\n"
     ]
    }
   ],
   "source": [
    "print(df2.dtypes)"
   ]
  },
  {
   "cell_type": "code",
   "execution_count": 10,
   "id": "metropolitan-approach",
   "metadata": {},
   "outputs": [
    {
     "name": "stdout",
     "output_type": "stream",
     "text": [
      "Index(['A', 'B', 'C', 'D', 'E', 'F'], dtype='object')\n"
     ]
    }
   ],
   "source": [
    "print(df2.columns)"
   ]
  },
  {
   "cell_type": "code",
   "execution_count": 11,
   "id": "mineral-payroll",
   "metadata": {},
   "outputs": [
    {
     "name": "stdout",
     "output_type": "stream",
     "text": [
      "         A    C    D\n",
      "count  4.0  4.0  4.0\n",
      "mean   1.0  1.0  3.0\n",
      "std    0.0  0.0  0.0\n",
      "min    1.0  1.0  3.0\n",
      "25%    1.0  1.0  3.0\n",
      "50%    1.0  1.0  3.0\n",
      "75%    1.0  1.0  3.0\n",
      "max    1.0  1.0  3.0\n"
     ]
    }
   ],
   "source": [
    "print(df2.describe())"
   ]
  },
  {
   "cell_type": "code",
   "execution_count": 12,
   "id": "negative-detection",
   "metadata": {},
   "outputs": [
    {
     "name": "stdout",
     "output_type": "stream",
     "text": [
      "                     0                    1                    2  \\\n",
      "A                  1.0                  1.0                  1.0   \n",
      "B  2021-03-07 00:00:00  2021-03-07 00:00:00  2021-03-07 00:00:00   \n",
      "C                    1                    1                    1   \n",
      "D                    3                    3                    3   \n",
      "E                 test                train                 test   \n",
      "F                 fool                 fool                 fool   \n",
      "\n",
      "                     3  \n",
      "A                  1.0  \n",
      "B  2021-03-07 00:00:00  \n",
      "C                    1  \n",
      "D                    3  \n",
      "E                train  \n",
      "F                 fool  \n"
     ]
    }
   ],
   "source": [
    "print(df2.T)"
   ]
  },
  {
   "cell_type": "code",
   "execution_count": 13,
   "id": "coupled-complaint",
   "metadata": {},
   "outputs": [
    {
     "name": "stdout",
     "output_type": "stream",
     "text": [
      "      F      E  D  C          B    A\n",
      "0  fool   test  3  1 2021-03-07  1.0\n",
      "1  fool  train  3  1 2021-03-07  1.0\n",
      "2  fool   test  3  1 2021-03-07  1.0\n",
      "3  fool  train  3  1 2021-03-07  1.0\n"
     ]
    }
   ],
   "source": [
    "print(df2.sort_index(axis=1,ascending=False))"
   ]
  },
  {
   "cell_type": "code",
   "execution_count": 14,
   "id": "improving-mississippi",
   "metadata": {},
   "outputs": [
    {
     "name": "stdout",
     "output_type": "stream",
     "text": [
      "     A          B  C  D      E     F\n",
      "0  1.0 2021-03-07  1  3   test  fool\n",
      "2  1.0 2021-03-07  1  3   test  fool\n",
      "1  1.0 2021-03-07  1  3  train  fool\n",
      "3  1.0 2021-03-07  1  3  train  fool\n"
     ]
    }
   ],
   "source": [
    "print(df2.sort_values(by='E'))"
   ]
  },
  {
   "cell_type": "code",
   "execution_count": 17,
   "id": "exact-edinburgh",
   "metadata": {},
   "outputs": [],
   "source": [
    "\n",
    "# pandas 选择数据\n"
   ]
  },
  {
   "cell_type": "code",
   "execution_count": 18,
   "id": "municipal-meditation",
   "metadata": {},
   "outputs": [],
   "source": [
    "dates=pd.date_range('20210307',periods=6)\n",
    "df= pd.DataFrame(np.arange(24).reshape(6,4),index=dates,columns=['A','B','C','D'])\n"
   ]
  },
  {
   "cell_type": "code",
   "execution_count": 28,
   "id": "purple-river",
   "metadata": {},
   "outputs": [
    {
     "name": "stdout",
     "output_type": "stream",
     "text": [
      "             A   B   C   D\n",
      "2021-03-07   0   1   2   3\n",
      "2021-03-08   4   5   6   7\n",
      "2021-03-09   8   9  10  11\n",
      "2021-03-10  12  13  14  15\n",
      "2021-03-11  16  17  18  19\n",
      "2021-03-12  20  21  22  23 \n",
      "\n",
      "2021-03-07     0\n",
      "2021-03-08     4\n",
      "2021-03-09     8\n",
      "2021-03-10    12\n",
      "2021-03-11    16\n",
      "2021-03-12    20\n",
      "Freq: D, Name: A, dtype: int64 \n",
      " 2021-03-07     0\n",
      "2021-03-08     4\n",
      "2021-03-09     8\n",
      "2021-03-10    12\n",
      "2021-03-11    16\n",
      "2021-03-12    20\n",
      "Freq: D, Name: A, dtype: int64 \n",
      "\n",
      "            A  B   C   D\n",
      "2021-03-07  0  1   2   3\n",
      "2021-03-08  4  5   6   7\n",
      "2021-03-09  8  9  10  11 \n",
      "             A  B   C   D\n",
      "2021-03-07  0  1   2   3\n",
      "2021-03-08  4  5   6   7\n",
      "2021-03-09  8  9  10  11\n"
     ]
    }
   ],
   "source": [
    "print(df,'\\n')\n",
    "print(df['A'],'\\n',df.A,'\\n')\n",
    "print(df[0:3],'\\n',df['20210307':'20210309'])"
   ]
  },
  {
   "cell_type": "code",
   "execution_count": 37,
   "id": "civic-journey",
   "metadata": {},
   "outputs": [
    {
     "name": "stdout",
     "output_type": "stream",
     "text": [
      "A    4\n",
      "B    5\n",
      "C    6\n",
      "D    7\n",
      "Name: 2021-03-08 00:00:00, dtype: int64 \n",
      "\n",
      "             A   B\n",
      "2021-03-07   0   1\n",
      "2021-03-08   4   5\n",
      "2021-03-09   8   9\n",
      "2021-03-10  12  13\n",
      "2021-03-11  16  17\n",
      "2021-03-12  20  21 \n",
      "\n",
      "A    4\n",
      "B    5\n",
      "Name: 2021-03-08 00:00:00, dtype: int64\n"
     ]
    }
   ],
   "source": [
    "#select by label: df.loc[]\n",
    "\n",
    "print(df.loc['20210308'],'\\n')\n",
    "print(df.loc[:,['A','B']],'\\n')\n",
    "print(df.loc['20210308',['A','B']])"
   ]
  },
  {
   "cell_type": "code",
   "execution_count": 38,
   "id": "further-elite",
   "metadata": {},
   "outputs": [
    {
     "name": "stdout",
     "output_type": "stream",
     "text": [
      "13 \n",
      "\n",
      "             B   C\n",
      "2021-03-10  13  14\n",
      "2021-03-11  17  18 \n",
      "\n",
      "             B   C\n",
      "2021-03-08   5   6\n",
      "2021-03-10  13  14\n",
      "2021-03-12  21  22\n"
     ]
    }
   ],
   "source": [
    "#select by position: df.iloc[]\n",
    "\n",
    "print(df.iloc[3,1],'\\n')\n",
    "print(df.iloc[3:5,1:3],'\\n')\n",
    "print(df.iloc[[1,3,5],1:3])"
   ]
  },
  {
   "cell_type": "code",
   "execution_count": 33,
   "id": "functioning-daily",
   "metadata": {},
   "outputs": [],
   "source": [
    "#mixed selection: ix \n",
    "\n",
    "# print(df.ix[0:3,['A','C']])\n",
    "# new edition the \"ix\" is deserted!\n"
   ]
  },
  {
   "cell_type": "code",
   "execution_count": 35,
   "id": "exposed-banking",
   "metadata": {},
   "outputs": [
    {
     "name": "stdout",
     "output_type": "stream",
     "text": [
      "             A   B   C   D\n",
      "2021-03-07   0   1   2   3\n",
      "2021-03-08   4   5   6   7\n",
      "2021-03-09   8   9  10  11\n",
      "2021-03-10  12  13  14  15\n",
      "2021-03-11  16  17  18  19\n",
      "2021-03-12  20  21  22  23 \n",
      "\n",
      "             A   B   C   D\n",
      "2021-03-10  12  13  14  15\n",
      "2021-03-11  16  17  18  19\n",
      "2021-03-12  20  21  22  23\n"
     ]
    }
   ],
   "source": [
    "#Boolean indexing\n",
    "\n",
    "print(df,'\\n')\n",
    "print(df[df.A>8])"
   ]
  },
  {
   "cell_type": "code",
   "execution_count": 39,
   "id": "disciplinary-pixel",
   "metadata": {},
   "outputs": [],
   "source": [
    "\n",
    "# pandas 设置值\n"
   ]
  },
  {
   "cell_type": "code",
   "execution_count": 40,
   "id": "automotive-module",
   "metadata": {},
   "outputs": [],
   "source": [
    "dates=pd.date_range('20210307',periods=6)\n",
    "df= pd.DataFrame(np.arange(24).reshape(6,4),index=dates,columns=['A','B','C','D'])\n"
   ]
  },
  {
   "cell_type": "code",
   "execution_count": 42,
   "id": "juvenile-broadcasting",
   "metadata": {},
   "outputs": [
    {
     "name": "stdout",
     "output_type": "stream",
     "text": [
      "             A   B     C   D\n",
      "2021-03-07   0   1     2   3\n",
      "2021-03-08   4   5     6   7\n",
      "2021-03-09   8   9  1111  11\n",
      "2021-03-10  12  13    14  15\n",
      "2021-03-11  16  17    18  19\n",
      "2021-03-12  20  21    22  23\n"
     ]
    }
   ],
   "source": [
    "df.iloc[2,2]=1111                                       #select by position\n",
    "print(df)"
   ]
  },
  {
   "cell_type": "code",
   "execution_count": 43,
   "id": "painted-prerequisite",
   "metadata": {},
   "outputs": [
    {
     "name": "stdout",
     "output_type": "stream",
     "text": [
      "             A   B     C   D\n",
      "2021-03-07   0   1  2222   3\n",
      "2021-03-08   4   5     6   7\n",
      "2021-03-09   8   9  1111  11\n",
      "2021-03-10  12  13    14  15\n",
      "2021-03-11  16  17    18  19\n",
      "2021-03-12  20  21    22  23\n"
     ]
    }
   ],
   "source": [
    "df.loc['20210307','C']=2222                             #select by label\n",
    "print(df)"
   ]
  },
  {
   "cell_type": "code",
   "execution_count": 44,
   "id": "killing-ready",
   "metadata": {},
   "outputs": [
    {
     "name": "stdout",
     "output_type": "stream",
     "text": [
      "             A  B     C   D\n",
      "2021-03-07   0  1  2222   3\n",
      "2021-03-08   4  5     6   7\n",
      "2021-03-09   8  0  1111  11\n",
      "2021-03-10  12  0    14  15\n",
      "2021-03-11  16  0    18  19\n",
      "2021-03-12  20  0    22  23\n"
     ]
    }
   ],
   "source": [
    "df.B[df.A>4]=0                                          #将A列大于4的B列元素改为0\n",
    "print(df)"
   ]
  },
  {
   "cell_type": "code",
   "execution_count": 45,
   "id": "alternate-creature",
   "metadata": {},
   "outputs": [
    {
     "name": "stdout",
     "output_type": "stream",
     "text": [
      "             A  B     C   D   F  E\n",
      "2021-03-07   0  1  2222   3 NaN  1\n",
      "2021-03-08   4  5     6   7 NaN  2\n",
      "2021-03-09   8  0  1111  11 NaN  3\n",
      "2021-03-10  12  0    14  15 NaN  4\n",
      "2021-03-11  16  0    18  19 NaN  5\n",
      "2021-03-12  20  0    22  23 NaN  6\n"
     ]
    }
   ],
   "source": [
    "df['F']=np.nan                                                                      #增加F 列 NaN\n",
    "df['E']=pd.Series([1,2,3,4,5,6],index=pd.date_range('20210307',periods=6))          #增加E 列\n",
    "print(df)"
   ]
  },
  {
   "cell_type": "code",
   "execution_count": 46,
   "id": "nuclear-session",
   "metadata": {},
   "outputs": [],
   "source": [
    "\n",
    "# pandas 处理丢失数据\n"
   ]
  },
  {
   "cell_type": "code",
   "execution_count": 47,
   "id": "regulation-folder",
   "metadata": {},
   "outputs": [],
   "source": [
    "dates=pd.date_range('20210307',periods=6)\n",
    "df= pd.DataFrame(np.arange(24).reshape(6,4),index=dates,columns=['A','B','C','D'])"
   ]
  },
  {
   "cell_type": "code",
   "execution_count": 48,
   "id": "authorized-functionality",
   "metadata": {},
   "outputs": [
    {
     "name": "stdout",
     "output_type": "stream",
     "text": [
      "             A     B     C   D\n",
      "2021-03-07   0   NaN   2.0   3\n",
      "2021-03-08   4   5.0   NaN   7\n",
      "2021-03-09   8   9.0  10.0  11\n",
      "2021-03-10  12  13.0  14.0  15\n",
      "2021-03-11  16  17.0  18.0  19\n",
      "2021-03-12  20  21.0  22.0  23\n"
     ]
    }
   ],
   "source": [
    "df.iloc[0,1]=np.nan\n",
    "df.iloc[1,2]=np.nan\n",
    "\n",
    "print(df)"
   ]
  },
  {
   "cell_type": "code",
   "execution_count": 49,
   "id": "weekly-comfort",
   "metadata": {},
   "outputs": [
    {
     "name": "stdout",
     "output_type": "stream",
     "text": [
      "             A     B     C   D\n",
      "2021-03-09   8   9.0  10.0  11\n",
      "2021-03-10  12  13.0  14.0  15\n",
      "2021-03-11  16  17.0  18.0  19\n",
      "2021-03-12  20  21.0  22.0  23\n",
      "             A   D\n",
      "2021-03-07   0   3\n",
      "2021-03-08   4   7\n",
      "2021-03-09   8  11\n",
      "2021-03-10  12  15\n",
      "2021-03-11  16  19\n",
      "2021-03-12  20  23\n"
     ]
    }
   ],
   "source": [
    "print(df.dropna(axis=0,how='any'))                  #dropna：暂时隐藏数据，实际并未删除， how={'any','all'}\n",
    "print(df.dropna(axis=1,how='any'))                  #any：只要存在，就会drop掉；all：要全部满足，才能drop掉"
   ]
  },
  {
   "cell_type": "code",
   "execution_count": 50,
   "id": "close-meditation",
   "metadata": {},
   "outputs": [
    {
     "name": "stdout",
     "output_type": "stream",
     "text": [
      "             A     B     C   D\n",
      "2021-03-07   0   0.0   2.0   3\n",
      "2021-03-08   4   5.0   0.0   7\n",
      "2021-03-09   8   9.0  10.0  11\n",
      "2021-03-10  12  13.0  14.0  15\n",
      "2021-03-11  16  17.0  18.0  19\n",
      "2021-03-12  20  21.0  22.0  23\n",
      "                A      B      C      D\n",
      "2021-03-07  False   True  False  False\n",
      "2021-03-08  False  False   True  False\n",
      "2021-03-09  False  False  False  False\n",
      "2021-03-10  False  False  False  False\n",
      "2021-03-11  False  False  False  False\n",
      "2021-03-12  False  False  False  False\n"
     ]
    }
   ],
   "source": [
    "print(df.fillna(value=0))                           #用value''填补空nan\n",
    "print(df.isnull()) "
   ]
  },
  {
   "cell_type": "code",
   "execution_count": 51,
   "id": "gross-amplifier",
   "metadata": {},
   "outputs": [],
   "source": [
    "\n",
    "#pandas 导入导出数据  'read' 'to'\n"
   ]
  },
  {
   "cell_type": "code",
   "execution_count": 53,
   "id": "super-darwin",
   "metadata": {},
   "outputs": [
    {
     "name": "stdout",
     "output_type": "stream",
     "text": [
      "   StudentID    Name  Age   Gender\n",
      "0       1100   Kelly    22  Female\n",
      "1       1101     Clo    21  Female\n",
      "2       1102   Tilly    22  Female\n",
      "3       1103    Tony    20    Male\n",
      "4       1104   David    22    Male\n",
      "5       1105   Catty    21  Female\n",
      "6       1106  Donvan    24    Male\n",
      "7       1107    Rudy    27    Male\n"
     ]
    }
   ],
   "source": [
    "data=pd.read_csv('Student.csv')\n",
    "print(data)"
   ]
  },
  {
   "cell_type": "code",
   "execution_count": 55,
   "id": "little-divorce",
   "metadata": {},
   "outputs": [
    {
     "name": "stdout",
     "output_type": "stream",
     "text": [
      "   StudentID    Name  Age   Gender\n",
      "0       1100   Kelly    22  Female\n",
      "1       1101     Clo    21  Female\n",
      "2       1102   Tilly    22  Female\n",
      "3       1103    Tony    20    Male\n",
      "4       1104   David    22    Male\n",
      "5       1105   Catty    21  Female\n",
      "6       1106  Donvan    24    Male\n",
      "7       1107    Rudy    27    Male\n"
     ]
    }
   ],
   "source": [
    "data.to_pickle('Student.pickle')\n",
    "print(pd.read_pickle(\"Student.pickle\"))"
   ]
  },
  {
   "cell_type": "code",
   "execution_count": 56,
   "id": "catholic-easter",
   "metadata": {},
   "outputs": [],
   "source": [
    "\n",
    "#pandas 合并 concatenating\n"
   ]
  },
  {
   "cell_type": "code",
   "execution_count": 57,
   "id": "impressive-biology",
   "metadata": {},
   "outputs": [],
   "source": [
    "df1=pd.DataFrame(np.ones((3,4))*0,columns=['a','b','c','d'])\n",
    "df2=pd.DataFrame(np.ones((3,4))*1,columns=['a','b','c','d'])\n",
    "df3=pd.DataFrame(np.ones((3,4))*2,columns=['a','b','c','d'])"
   ]
  },
  {
   "cell_type": "code",
   "execution_count": 59,
   "id": "worthy-clone",
   "metadata": {},
   "outputs": [
    {
     "name": "stdout",
     "output_type": "stream",
     "text": [
      "     a    b    c    d\n",
      "0  0.0  0.0  0.0  0.0\n",
      "1  0.0  0.0  0.0  0.0\n",
      "2  0.0  0.0  0.0  0.0 \n",
      "\n",
      "     a    b    c    d\n",
      "0  1.0  1.0  1.0  1.0\n",
      "1  1.0  1.0  1.0  1.0\n",
      "2  1.0  1.0  1.0  1.0 \n",
      "\n",
      "     a    b    c    d\n",
      "0  2.0  2.0  2.0  2.0\n",
      "1  2.0  2.0  2.0  2.0\n",
      "2  2.0  2.0  2.0  2.0\n"
     ]
    }
   ],
   "source": [
    "print(df1,'\\n')\n",
    "print(df2,'\\n')\n",
    "print(df3)"
   ]
  },
  {
   "cell_type": "code",
   "execution_count": 60,
   "id": "beautiful-shopper",
   "metadata": {},
   "outputs": [
    {
     "name": "stdout",
     "output_type": "stream",
     "text": [
      "     a    b    c    d\n",
      "0  0.0  0.0  0.0  0.0\n",
      "1  0.0  0.0  0.0  0.0\n",
      "2  0.0  0.0  0.0  0.0\n",
      "0  1.0  1.0  1.0  1.0\n",
      "1  1.0  1.0  1.0  1.0\n",
      "2  1.0  1.0  1.0  1.0\n",
      "0  2.0  2.0  2.0  2.0\n",
      "1  2.0  2.0  2.0  2.0\n",
      "2  2.0  2.0  2.0  2.0\n"
     ]
    }
   ],
   "source": [
    "res= pd.concat([df1,df2,df3],axis=0)            #合并dataframe\n",
    "print(res)"
   ]
  },
  {
   "cell_type": "code",
   "execution_count": 61,
   "id": "comprehensive-intake",
   "metadata": {},
   "outputs": [
    {
     "name": "stdout",
     "output_type": "stream",
     "text": [
      "     a    b    c    d\n",
      "0  0.0  0.0  0.0  0.0\n",
      "1  0.0  0.0  0.0  0.0\n",
      "2  0.0  0.0  0.0  0.0\n",
      "3  1.0  1.0  1.0  1.0\n",
      "4  1.0  1.0  1.0  1.0\n",
      "5  1.0  1.0  1.0  1.0\n",
      "6  2.0  2.0  2.0  2.0\n",
      "7  2.0  2.0  2.0  2.0\n",
      "8  2.0  2.0  2.0  2.0\n"
     ]
    }
   ],
   "source": [
    "res1 = pd.concat([df1,df2,df3],axis=0,ignore_index=True)\n",
    "print(res1)"
   ]
  },
  {
   "cell_type": "code",
   "execution_count": 70,
   "id": "interesting-residence",
   "metadata": {},
   "outputs": [],
   "source": [
    " # join,['inner','outer']\n",
    "df1=pd.DataFrame(np.ones((3,4))*0,columns=['a','b','c','d'],index=[1,2,3])\n",
    "df2=pd.DataFrame(np.ones((3,4))*1,columns=['b','c','d','e'],index=[2,3,4])\n",
    "df3=pd.DataFrame(np.ones((3,4))*2,columns=['b','c','d','e'],index=[2,3,4])"
   ]
  },
  {
   "cell_type": "code",
   "execution_count": 71,
   "id": "rising-visit",
   "metadata": {},
   "outputs": [
    {
     "name": "stdout",
     "output_type": "stream",
     "text": [
      "     a    b    c    d\n",
      "1  0.0  0.0  0.0  0.0\n",
      "2  0.0  0.0  0.0  0.0\n",
      "3  0.0  0.0  0.0  0.0 \n",
      "\n",
      "     b    c    d    e\n",
      "2  1.0  1.0  1.0  1.0\n",
      "3  1.0  1.0  1.0  1.0\n",
      "4  1.0  1.0  1.0  1.0 \n",
      "\n",
      "     b    c    d    e\n",
      "2  2.0  2.0  2.0  2.0\n",
      "3  2.0  2.0  2.0  2.0\n",
      "4  2.0  2.0  2.0  2.0\n"
     ]
    }
   ],
   "source": [
    "print(df1,'\\n')\n",
    "print(df2,'\\n')\n",
    "print(df3)"
   ]
  },
  {
   "cell_type": "code",
   "execution_count": 72,
   "id": "institutional-nancy",
   "metadata": {},
   "outputs": [
    {
     "name": "stdout",
     "output_type": "stream",
     "text": [
      "     a    b    c    d    e\n",
      "1  0.0  0.0  0.0  0.0  NaN\n",
      "2  0.0  0.0  0.0  0.0  NaN\n",
      "3  0.0  0.0  0.0  0.0  NaN\n",
      "2  NaN  1.0  1.0  1.0  1.0\n",
      "3  NaN  1.0  1.0  1.0  1.0\n",
      "4  NaN  1.0  1.0  1.0  1.0\n"
     ]
    }
   ],
   "source": [
    "res = pd.concat([df1,df2],join=\"outer\")             #没有的元素补上NaN (取并集)\n",
    "print(res)"
   ]
  },
  {
   "cell_type": "code",
   "execution_count": 73,
   "id": "wicked-magic",
   "metadata": {},
   "outputs": [
    {
     "name": "stdout",
     "output_type": "stream",
     "text": [
      "     b    c    d\n",
      "1  0.0  0.0  0.0\n",
      "2  0.0  0.0  0.0\n",
      "3  0.0  0.0  0.0\n",
      "2  1.0  1.0  1.0\n",
      "3  1.0  1.0  1.0\n",
      "4  1.0  1.0  1.0\n"
     ]
    }
   ],
   "source": [
    "res1 = pd.concat([df1,df2],join='inner')            #删除交集以外的元素 (取交集)\n",
    "print(res1)"
   ]
  },
  {
   "cell_type": "code",
   "execution_count": 74,
   "id": "demanding-cleaning",
   "metadata": {},
   "outputs": [
    {
     "name": "stdout",
     "output_type": "stream",
     "text": [
      "     a    b    c    d    e\n",
      "0  0.0  0.0  0.0  0.0  NaN\n",
      "1  0.0  0.0  0.0  0.0  NaN\n",
      "2  0.0  0.0  0.0  0.0  NaN\n",
      "3  NaN  1.0  1.0  1.0  1.0\n",
      "4  NaN  1.0  1.0  1.0  1.0\n",
      "5  NaN  1.0  1.0  1.0  1.0\n"
     ]
    }
   ],
   "source": [
    "res3=df1.append(df2,ignore_index=True)              #append\n",
    "print(res3)"
   ]
  },
  {
   "cell_type": "code",
   "execution_count": 75,
   "id": "common-letter",
   "metadata": {},
   "outputs": [
    {
     "name": "stdout",
     "output_type": "stream",
     "text": [
      "     a    b    c    d    e\n",
      "0  0.0  0.0  0.0  0.0  NaN\n",
      "1  0.0  0.0  0.0  0.0  NaN\n",
      "2  0.0  0.0  0.0  0.0  NaN\n",
      "3  NaN  1.0  1.0  1.0  1.0\n",
      "4  NaN  1.0  1.0  1.0  1.0\n",
      "5  NaN  1.0  1.0  1.0  1.0\n",
      "6  NaN  2.0  2.0  2.0  2.0\n",
      "7  NaN  2.0  2.0  2.0  2.0\n",
      "8  NaN  2.0  2.0  2.0  2.0\n"
     ]
    }
   ],
   "source": [
    "res4=df1.append([df2,df3],ignore_index=True)\n",
    "print(res4)"
   ]
  },
  {
   "cell_type": "code",
   "execution_count": 76,
   "id": "injured-boost",
   "metadata": {},
   "outputs": [
    {
     "name": "stdout",
     "output_type": "stream",
     "text": [
      "     a    b    c    d\n",
      "0  0.0  0.0  0.0  0.0\n",
      "1  0.0  0.0  0.0  0.0\n",
      "2  0.0  0.0  0.0  0.0\n",
      "3  1.0  2.0  3.0  4.0\n"
     ]
    }
   ],
   "source": [
    "s1=pd.Series([1,2,3,4],index=['a','b','c','d'])\n",
    "res5=df1.append(s1,ignore_index=True)\n",
    "print(res5)"
   ]
  },
  {
   "cell_type": "code",
   "execution_count": 77,
   "id": "reverse-sharing",
   "metadata": {},
   "outputs": [],
   "source": [
    "\n",
    "#pandas 合并 merge(基于key)\n"
   ]
  },
  {
   "cell_type": "code",
   "execution_count": 78,
   "id": "injured-illustration",
   "metadata": {},
   "outputs": [],
   "source": [
    "left=pd.DataFrame({'key':['K0','K1','K2','K3'],\n",
    "                   'A':['A0','A1','A2','A3'],\n",
    "                   'B':['B0','B1','B2','B3']})\n",
    "right=pd.DataFrame({'key':['K0','K1','K2','K3'],\n",
    "                   'C':['C0','C1','C2','C3'],\n",
    "                   'D':['D0','D1','D2','D3']})"
   ]
  },
  {
   "cell_type": "code",
   "execution_count": 80,
   "id": "designed-october",
   "metadata": {},
   "outputs": [
    {
     "name": "stdout",
     "output_type": "stream",
     "text": [
      "  key   A   B\n",
      "0  K0  A0  B0\n",
      "1  K1  A1  B1\n",
      "2  K2  A2  B2\n",
      "3  K3  A3  B3 \n",
      "\n",
      "  key   C   D\n",
      "0  K0  C0  D0\n",
      "1  K1  C1  D1\n",
      "2  K2  C2  D2\n",
      "3  K3  C3  D3\n"
     ]
    }
   ],
   "source": [
    "print(left,'\\n')\n",
    "print(right)"
   ]
  },
  {
   "cell_type": "code",
   "execution_count": 81,
   "id": "everyday-french",
   "metadata": {},
   "outputs": [
    {
     "name": "stdout",
     "output_type": "stream",
     "text": [
      "  key   A   B   C   D\n",
      "0  K0  A0  B0  C0  D0\n",
      "1  K1  A1  B1  C1  D1\n",
      "2  K2  A2  B2  C2  D2\n",
      "3  K3  A3  B3  C3  D3\n"
     ]
    }
   ],
   "source": [
    "res = pd.merge(left,right,on='key')\n",
    "print(res)"
   ]
  },
  {
   "cell_type": "code",
   "execution_count": 82,
   "id": "stretch-astronomy",
   "metadata": {},
   "outputs": [],
   "source": [
    "  #merge() 中 how 的分类\n",
    "left=pd.DataFrame({'key1':['K0','K0','K1','K2'],\n",
    "                   'key2':['K0','K1','K0','K1'],\n",
    "                   'A':['A0','A1','A2','A3'],\n",
    "                   'B':['B0','B1','B2','B3']})\n",
    "right=pd.DataFrame({'key1':['K0','K1','K1','K2'],\n",
    "                    'key2':['K0','KO','K0','K0'],\n",
    "                    'C':['C0','C1','C2','C3'],\n",
    "                    'D':['D0','D1','D2','D3']})"
   ]
  },
  {
   "cell_type": "code",
   "execution_count": 84,
   "id": "frequent-intranet",
   "metadata": {},
   "outputs": [
    {
     "name": "stdout",
     "output_type": "stream",
     "text": [
      "  key1 key2   A   B\n",
      "0   K0   K0  A0  B0\n",
      "1   K0   K1  A1  B1\n",
      "2   K1   K0  A2  B2\n",
      "3   K2   K1  A3  B3 \n",
      "\n",
      "  key1 key2   C   D\n",
      "0   K0   K0  C0  D0\n",
      "1   K1   KO  C1  D1\n",
      "2   K1   K0  C2  D2\n",
      "3   K2   K0  C3  D3\n"
     ]
    }
   ],
   "source": [
    "print(left,'\\n')\n",
    "print(right)"
   ]
  },
  {
   "cell_type": "code",
   "execution_count": 85,
   "id": "retired-start",
   "metadata": {},
   "outputs": [
    {
     "name": "stdout",
     "output_type": "stream",
     "text": [
      "  key1 key2   A   B   C   D\n",
      "0   K0   K0  A0  B0  C0  D0\n",
      "1   K1   K0  A2  B2  C2  D2\n"
     ]
    }
   ],
   "source": [
    "res1= pd.merge(left,right,on=['key1','key2'],how='inner')            #默认合并原则 inner 交集\n",
    "                                                                    #how=['inner','outer','left','right']\n",
    "print(res1)"
   ]
  },
  {
   "cell_type": "code",
   "execution_count": 86,
   "id": "continental-variety",
   "metadata": {},
   "outputs": [
    {
     "name": "stdout",
     "output_type": "stream",
     "text": [
      "  key1 key2    A    B    C    D\n",
      "0   K0   K0   A0   B0   C0   D0\n",
      "1   K0   K1   A1   B1  NaN  NaN\n",
      "2   K1   K0   A2   B2   C2   D2\n",
      "3   K2   K1   A3   B3  NaN  NaN\n",
      "4   K1   KO  NaN  NaN   C1   D1\n",
      "5   K2   K0  NaN  NaN   C3   D3\n"
     ]
    }
   ],
   "source": [
    "res2= pd.merge(left,right,on=['key1','key2'],how='outer')           #outer 并集(无-NaN)\n",
    "print(res2)"
   ]
  },
  {
   "cell_type": "code",
   "execution_count": 87,
   "id": "universal-virus",
   "metadata": {},
   "outputs": [
    {
     "name": "stdout",
     "output_type": "stream",
     "text": [
      "  key1 key2   A   B    C    D\n",
      "0   K0   K0  A0  B0   C0   D0\n",
      "1   K0   K1  A1  B1  NaN  NaN\n",
      "2   K1   K0  A2  B2   C2   D2\n",
      "3   K2   K1  A3  B3  NaN  NaN\n"
     ]
    }
   ],
   "source": [
    "res3= pd.merge(left,right,on=['key1','key2'],how='left')\n",
    "print(res3)"
   ]
  },
  {
   "cell_type": "code",
   "execution_count": 88,
   "id": "intelligent-convertible",
   "metadata": {},
   "outputs": [
    {
     "name": "stdout",
     "output_type": "stream",
     "text": [
      "  key1 key2    A    B   C   D\n",
      "0   K0   K0   A0   B0  C0  D0\n",
      "1   K1   KO  NaN  NaN  C1  D1\n",
      "2   K1   K0   A2   B2  C2  D2\n",
      "3   K2   K0  NaN  NaN  C3  D3\n"
     ]
    }
   ],
   "source": [
    "res4= pd.merge(left,right,on=['key1','key2'],how='right')\n",
    "print(res4)"
   ]
  },
  {
   "cell_type": "code",
   "execution_count": 89,
   "id": "veterinary-floating",
   "metadata": {},
   "outputs": [],
   "source": [
    " #indicator\n",
    "df1=pd.DataFrame({'col1':[0,1],'col_left':['a','b']})\n",
    "df2=pd.DataFrame({'col1':[1,2,2],'col_left':[2,2,2]})\n"
   ]
  },
  {
   "cell_type": "code",
   "execution_count": 91,
   "id": "mechanical-southeast",
   "metadata": {},
   "outputs": [
    {
     "name": "stdout",
     "output_type": "stream",
     "text": [
      "   col1 col_left\n",
      "0     0        a\n",
      "1     1        b \n",
      "\n",
      "   col1  col_left\n",
      "0     1         2\n",
      "1     2         2\n",
      "2     2         2\n"
     ]
    }
   ],
   "source": [
    "print(df1,'\\n')\n",
    "print(df2)"
   ]
  },
  {
   "cell_type": "code",
   "execution_count": 92,
   "id": "binary-albert",
   "metadata": {},
   "outputs": [
    {
     "name": "stdout",
     "output_type": "stream",
     "text": [
      "   col1 col_left_x  col_left_y indicator_column\n",
      "0     0          a         NaN        left_only\n",
      "1     1          b         2.0             both\n",
      "2     2        NaN         2.0       right_only\n",
      "3     2        NaN         2.0       right_only\n"
     ]
    }
   ],
   "source": [
    "res= pd.merge(df1,df2,on='col1',how='outer',indicator=True)\n",
    "res1= pd.merge(df1,df2,on='col1',how='outer',indicator='indicator_column')\n",
    "                            #we can give indicator a custom name : indicator='indicator_column';其默认值是_merge\n",
    "print(res1)"
   ]
  },
  {
   "cell_type": "code",
   "execution_count": 93,
   "id": "corresponding-revolution",
   "metadata": {},
   "outputs": [],
   "source": [
    "#merged by index\n",
    "left=pd.DataFrame({'A':['A0','A1','A2'],\n",
    "                   'B':['B0','B1','B2'],},\n",
    "                  index=['K0','K1','K2'])\n",
    "right=pd.DataFrame({'C':['C0','C1','C2'],\n",
    "                    'D':['D0','D1','D2']},\n",
    "                   index=['K1','K2','K3'])"
   ]
  },
  {
   "cell_type": "code",
   "execution_count": 95,
   "id": "about-cannon",
   "metadata": {},
   "outputs": [
    {
     "name": "stdout",
     "output_type": "stream",
     "text": [
      "     A   B\n",
      "K0  A0  B0\n",
      "K1  A1  B1\n",
      "K2  A2  B2 \n",
      "\n",
      "     C   D\n",
      "K1  C0  D0\n",
      "K2  C1  D1\n",
      "K3  C2  D2\n"
     ]
    }
   ],
   "source": [
    "print(left,'\\n')\n",
    "print(right)"
   ]
  },
  {
   "cell_type": "code",
   "execution_count": 96,
   "id": "familiar-reach",
   "metadata": {},
   "outputs": [],
   "source": [
    "res1 = pd.merge(left,right,left_index=True,right_index=True,how='outer')\n",
    "res2 = pd.merge(left,right,left_index=True,right_index=True,how='inner')"
   ]
  },
  {
   "cell_type": "code",
   "execution_count": 98,
   "id": "fresh-despite",
   "metadata": {},
   "outputs": [
    {
     "name": "stdout",
     "output_type": "stream",
     "text": [
      "      A    B    C    D\n",
      "K0   A0   B0  NaN  NaN\n",
      "K1   A1   B1   C0   D0\n",
      "K2   A2   B2   C1   D1\n",
      "K3  NaN  NaN   C2   D2 \n",
      "\n",
      "     A   B   C   D\n",
      "K1  A1  B1  C0  D0\n",
      "K2  A2  B2  C1  D1\n"
     ]
    }
   ],
   "source": [
    "print(res1,'\\n')\n",
    "print(res2)"
   ]
  },
  {
   "cell_type": "code",
   "execution_count": 99,
   "id": "announced-breed",
   "metadata": {},
   "outputs": [],
   "source": [
    "#handle overlapping\n",
    "boys=pd.DataFrame({'k':['K0','K1','K2'],'age':[1,2,3]})\n",
    "girls=pd.DataFrame({'k':['K0','K0','K3'],'age':[4,5,6]})\n"
   ]
  },
  {
   "cell_type": "code",
   "execution_count": 101,
   "id": "radical-cloud",
   "metadata": {},
   "outputs": [
    {
     "name": "stdout",
     "output_type": "stream",
     "text": [
      "    k  age\n",
      "0  K0    1\n",
      "1  K1    2\n",
      "2  K2    3 \n",
      "\n",
      "    k  age\n",
      "0  K0    4\n",
      "1  K0    5\n",
      "2  K3    6\n"
     ]
    }
   ],
   "source": [
    "print(boys,'\\n')\n",
    "print(girls)"
   ]
  },
  {
   "cell_type": "code",
   "execution_count": 102,
   "id": "lyric-client",
   "metadata": {},
   "outputs": [],
   "source": [
    "res =pd.merge(boys,girls,on='k',suffixes=['_boy','_girl'],how='inner')      #suffix--后缀\n"
   ]
  },
  {
   "cell_type": "code",
   "execution_count": 103,
   "id": "utility-cleveland",
   "metadata": {},
   "outputs": [
    {
     "name": "stdout",
     "output_type": "stream",
     "text": [
      "    k  age_boy  age_girl\n",
      "0  K0        1         4\n",
      "1  K0        1         5\n"
     ]
    }
   ],
   "source": [
    "print(res)"
   ]
  },
  {
   "cell_type": "code",
   "execution_count": 104,
   "id": "divine-immigration",
   "metadata": {},
   "outputs": [],
   "source": [
    "\n",
    "# pands 绘制图表\n"
   ]
  },
  {
   "cell_type": "code",
   "execution_count": 105,
   "id": "korean-plaintiff",
   "metadata": {},
   "outputs": [
    {
     "data": {
      "text/plain": [
       "<AxesSubplot:>"
      ]
     },
     "execution_count": 105,
     "metadata": {},
     "output_type": "execute_result"
    },
    {
     "data": {
      "image/png": "[encoded data removed]",
      "text/plain": [
       "<Figure size 432x288 with 1 Axes>"
      ]
     },
     "metadata": {
      "needs_background": "light"
     },
     "output_type": "display_data"
    }
   ],
   "source": [
    "#plot data         \n",
    "data = pd.Series(np.random.randn(1000),index=np.arange(1000))                  # by Series\n",
    "data = data.cumsum()\n",
    "data.plot()"
   ]
  },
  {
   "cell_type": "code",
   "execution_count": 106,
   "id": "every-sweet",
   "metadata": {},
   "outputs": [
    {
     "name": "stdout",
     "output_type": "stream",
     "text": [
      "          A         B         C         D\n",
      "0 -0.654826  1.720510  1.065522 -0.330271\n",
      "1 -1.148094 -0.665720 -1.455075 -0.196882\n",
      "2  1.016538 -0.915495 -0.281767  0.425190\n"
     ]
    }
   ],
   "source": [
    " #DataFrame\n",
    "data= pd.DataFrame(np.random.randn(1000,4),\n",
    "                   index=np.arange(1000),\n",
    "                   columns=list(\"ABCD\"))\n",
    "print(data.head(3))"
   ]
  },
  {
   "cell_type": "code",
   "execution_count": 107,
   "id": "associate-authorization",
   "metadata": {},
   "outputs": [
    {
     "name": "stdout",
     "output_type": "stream",
     "text": [
      "          A         B         C         D\n",
      "0 -0.654826  1.720510  1.065522 -0.330271\n",
      "1 -1.802920  1.054789 -0.389553 -0.527152\n",
      "2 -0.786381  0.139294 -0.671320 -0.101963\n",
      "3 -1.436681 -2.122452 -0.261381  0.299482\n",
      "4 -1.120965 -3.703245 -0.103657 -1.275914\n"
     ]
    }
   ],
   "source": [
    "data= data.cumsum()\n",
    "print(data.head())"
   ]
  },
  {
   "cell_type": "code",
   "execution_count": 108,
   "id": "regional-observation",
   "metadata": {},
   "outputs": [
    {
     "data": {
      "image/png": "[encoded data removed]",
      "text/plain": [
       "<Figure size 432x288 with 1 Axes>"
      ]
     },
     "metadata": {
      "needs_background": "light"
     },
     "output_type": "display_data"
    }
   ],
   "source": [
    "ax= data.plot.scatter(x='A',y='B',color='DarkBlue',label='Class 1')\n",
    "data.plot.scatter(x='A',y='C',color='DarkGreen',label='Class 2',ax=ax)\n",
    "plt.show()"
   ]
  },
  {
   "cell_type": "code",
   "execution_count": null,
   "id": "grand-coverage",
   "metadata": {},
   "outputs": [],
   "source": []
  }
 ],
 "metadata": {
  "kernelspec": {
   "display_name": "Python 3.8.6 64-bit ('tf-arm': conda)",
   "language": "python",
   "name": "python386jvsc74a57bd01dfbddd552d885556020fece93ace399640de244471e901c0c7a48cd7f567144"
  },
  "language_info": {
   "codemirror_mode": {
    "name": "ipython",
    "version": 3
   },
   "file_extension": ".py",
   "mimetype": "text/x-python",
   "name": "python",
   "nbconvert_exporter": "python",
   "pygments_lexer": "ipython3",
   "version": "3.8.6"
  }
 },
 "nbformat": 4,
 "nbformat_minor": 5
}
